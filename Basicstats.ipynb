{
  "nbformat": 4,
  "nbformat_minor": 0,
  "metadata": {
    "colab": {
      "provenance": []
    },
    "kernelspec": {
      "name": "python3",
      "display_name": "Python 3"
    },
    "language_info": {
      "name": "python"
    }
  },
  "cells": [
    {
      "cell_type": "code",
      "execution_count": null,
      "metadata": {
        "id": "gf6MnJP2bEGQ"
      },
      "outputs": [],
      "source": []
    },
    {
      "cell_type": "markdown",
      "source": [
        "1. Explain the different types of data (qualitative and quantitative) and provide examples of each. Discuss nominal, ordinal, interval, and ratio scales.\n",
        "\n",
        "\n",
        "Data is classified into two main types:\n",
        "\n",
        "Qualitative (Categorical) Data: Describes characteristics or qualities and is not numerical.\n",
        "\n",
        "Example: Colors of cars (Red, Blue, Black), Types of fruits (Apple, Banana, Orange).\n",
        "\n",
        "\n",
        "Quantitative (Numerical) Data: Represents measurable quantities.\n",
        "\n",
        "Example: Heights of students (5.4 ft, 6.2 ft), Number of employees in a company (50, 100, 200).\n",
        "\n",
        "\n",
        "Scales of Measurement:\n",
        "\n",
        "\n",
        "Nominal Scale:Categorical data without any order.\n",
        "\n",
        "\n",
        "Example: Gender (Male, Female), Types of pets (Dog, Cat, Bird).\n",
        "\n",
        "\n",
        "Ordinal Scale:Categorical data with a meaningful order but unequal intervals.\n",
        "\n",
        "\n",
        "Example: Customer satisfaction levels (Satisfied, Neutral, Dissatisfied).\n",
        "\n",
        "\n",
        "Interval Scale:Numeric data with equal intervals but no true zero.\n",
        "\n",
        "\n",
        "Example: Temperature in Celsius (0°C does not mean no temperature).\n",
        "\n",
        "\n",
        "Ratio Scale:Numeric data with equal intervals and a true zero.\n",
        "\n",
        "\n",
        "Example: Weight in kilograms (0 kg means no weight)."
      ],
      "metadata": {
        "id": "JkzYZi8hbQlc"
      }
    },
    {
      "cell_type": "markdown",
      "source": [
        "2. What are the measures of central tendency, and when should you use each? Discuss the mean, median, and mode with examples.\n",
        "\n",
        "\n",
        "Measures of central tendency describe the center of a dataset.\n",
        "\n",
        "Mean (Average): Sum of all values divided by total count.\n",
        "\n",
        "Example: Test scores: 60, 70, 80 → Mean = (60+70+80)/3 = 70\n",
        "\n",
        "\n",
        "Used when: Data is symmetric and has no extreme values.\n",
        "\n",
        "\n",
        "Median (Middle Value): Middle value when data is arranged in order.\n",
        "\n",
        "Example: {50, 60, 70, 80, 90} → Median = 70\n",
        "\n",
        "\n",
        "Used when: Data is skewed or has outliers.\n",
        "\n",
        "\n",
        "Mode (Most Frequent Value): The value that appears most frequently.\n",
        "\n",
        "Example: {2, 3, 3, 4, 5} → Mode = 3\n",
        "\n",
        "\n",
        "Used when: Analyzing categorical data."
      ],
      "metadata": {
        "id": "5Ifs1s5Xb5X2"
      }
    },
    {
      "cell_type": "markdown",
      "source": [
        "3. Explain the concept of dispersion. How do variance and standard deviation measure the spread of data?\n",
        "\n",
        "Dispersion refers to how spread out the data values are.\n",
        "\n",
        "Variance: Measures the average squared deviation from the mean.\n",
        "\n",
        "\n",
        "Higher variance means more spread-out data.\n",
        "\n",
        "\n",
        "Standard Deviation: Square root of variance, giving a direct measure of spread.\n",
        "\n",
        "Example: If test scores have a high standard deviation, students' performance varies widely.\n"
      ],
      "metadata": {
        "id": "uyBUi3oScFtP"
      }
    },
    {
      "cell_type": "markdown",
      "source": [
        "4. What is a box plot, and what can it tell you about the distribution of data?\n",
        "\n",
        "\n",
        "A box plot (or box-and-whisker plot) visually represents data distribution using:\n",
        "\n",
        "Minimum (Q1 - 1.5 × IQR)\n",
        "First Quartile (Q1): 25% of data is below this.\n",
        "Median (Q2): Middle value of data.\n",
        "Third Quartile (Q3): 75% of data is below this.\n",
        "Maximum (Q3 + 1.5 × IQR)\n",
        "Outliers: Points beyond whiskers.\n",
        "\n",
        "\n",
        "Use: Helps identify skewness, spread, and outliers in data."
      ],
      "metadata": {
        "id": "6XV26hvvceYU"
      }
    },
    {
      "cell_type": "markdown",
      "source": [
        "5. Discuss the role of random sampling in making inferences about populations.\n",
        "\n",
        "\n",
        "Random sampling is selecting a subset of individuals from a population such that every member has an equal chance of selection.\n",
        "\n",
        "Ensures unbiased representation of the population.\n",
        "\n",
        "\n",
        "Allows for generalization from sample to population.\n",
        "\n",
        "\n",
        "Reduces the risk of systematic errors.\n",
        "\n",
        "\n",
        "Example: Conducting a survey on students' study habits using a random sample from different schools."
      ],
      "metadata": {
        "id": "8QfYWYoncmcg"
      }
    },
    {
      "cell_type": "markdown",
      "source": [
        "6. Explain the concept of skewness and its types. How does skewness affect the interpretation of data?\n",
        "\n",
        "\n",
        "Skewness measures the asymmetry of a data distribution.\n",
        "\n",
        "Positive Skew (Right Skewed):Long tail on the right.\n",
        "Example: Income distribution (few earn very high salaries).\n",
        "\n",
        "\n",
        "Negative Skew (Left Skewed):Long tail on the left.\n",
        "Example: Test scores (most students score high, few fail).\n",
        "\n",
        "\n",
        "Effect on Interpretation:\n",
        "\n",
        "Mean > Median (right skew), Mean < Median (left skew).\n",
        "Median is better for skewed data.\n"
      ],
      "metadata": {
        "id": "hu_POhozcz4x"
      }
    },
    {
      "cell_type": "markdown",
      "source": [
        "7. What is the interquartile range (IQR), and how is it used to detect outliers?\n",
        "\n",
        "\n",
        "IQR measures the spread of the middle 50% of data:\n",
        "\n",
        "\n",
        "IQR=Q3−Q1\n",
        "\n",
        "\n",
        "Outliers:\n",
        "\n",
        "\n",
        "Data points below Q1 - 1.5 × IQR or above Q3 + 1.5 × IQR.\n",
        "\n",
        "\n",
        "Helps identify unusually high or low values."
      ],
      "metadata": {
        "id": "oXlcduhEdBFs"
      }
    },
    {
      "cell_type": "markdown",
      "source": [
        "8. Discuss the conditions under which the binomial distribution is used.\n",
        "\n",
        "\n",
        "A binomial distribution applies when:\n",
        "\n",
        "Fixed number of trials (n).\n",
        "Each trial has two outcomes (success/failure).\n",
        "Constant probability (p) of success.\n",
        "Trials are independent.\n",
        "Example: Flipping a coin 10 times, counting heads."
      ],
      "metadata": {
        "id": "B7i08uAedJQO"
      }
    },
    {
      "cell_type": "markdown",
      "source": [
        "9. Explain the properties of the normal distribution and the empirical rule (68-95-99.7 rule).\n",
        "\n",
        "\n",
        "Normal Distribution:\n",
        "\n",
        "Bell-shaped, symmetric curve.\n",
        "\n",
        "\n",
        "Mean = Median = Mode.\n",
        "\n",
        "\n",
        "Total area under the curve = 1.\n",
        "\n",
        "\n",
        "Empirical Rule:\n",
        "\n",
        "68% of data falls within 1 SD.\n",
        "95% within 2 SD.\n",
        "99.7% within 3 SD.\n",
        "\n",
        "\n",
        "Example: If heights are normally distributed with a mean of 170 cm and SD of 10 cm, 95% of people have heights between 150 cm and 190 cm.\n",
        "\n"
      ],
      "metadata": {
        "id": "a3-Yxyk2dRiP"
      }
    },
    {
      "cell_type": "markdown",
      "source": [],
      "metadata": {
        "id": "z-xL3aQLdWj8"
      }
    },
    {
      "cell_type": "code",
      "source": [
        "'''10. Provide a real-life example of a Poisson process and calculate the probability for a specific event.\n",
        "A Poisson process models rare events over time or space.\n",
        "\n",
        "P(X = k) = (λ^k * e^(-λ)) / k!\n",
        "\n",
        "suppose a doctor receive  avg 6 calls per hour\n",
        "\n",
        "\n",
        "Finding (3 calls per hour when λ is 6)\n",
        "\n",
        "'''\n",
        "\n",
        "import math\n",
        "\n",
        "def poisson_probability(k, lambda_value):\n",
        "    probability = (lambda_value**k * math.exp(-lambda_value)) / math.factorial(k)\n",
        "    return probability\n",
        "\n",
        "poisson_probability(3,6)\n",
        "\n",
        "\n",
        "\n",
        "\n"
      ],
      "metadata": {
        "colab": {
          "base_uri": "https://localhost:8080/"
        },
        "id": "floepqVGdfI2",
        "outputId": "b83fa25f-31ab-413f-fc65-f3e559af062f"
      },
      "execution_count": 2,
      "outputs": [
        {
          "output_type": "execute_result",
          "data": {
            "text/plain": [
              "0.08923507835998891"
            ]
          },
          "metadata": {},
          "execution_count": 2
        }
      ]
    },
    {
      "cell_type": "markdown",
      "source": [
        "11. Explain what a random variable is and differentiate between discrete and continuous random variables.\n",
        "\n",
        "\n",
        "A random variable assigns numerical values to outcomes of a random process.\n",
        "\n",
        "Discrete: Countable values.\n",
        "\n",
        "\n",
        "Example: Number of students in a class.\n",
        "\n",
        "\n",
        "Continuous: Infinite possible values.\n",
        "\n",
        "\n",
        "Example: Height of a person."
      ],
      "metadata": {
        "id": "krToDTbdexZU"
      }
    },
    {
      "cell_type": "code",
      "source": [
        "'''12. Provide an example dataset, calculate both covariance and correlation, and interpret the results.\n",
        "Dataset: (X: Hours Studied, Y: Test Scores)\n",
        "\n",
        "X: {2, 4, 6}\n",
        "Y: {50, 60, 70}\n",
        "Covariance = 20 (Positive → Variables increase together).\n",
        "Correlation = 1 (Perfect positive relationship).\n",
        "\n",
        "Interpretation: More study hours lead to higher test scores.'''\n",
        "\n",
        "X= [2, 4, 6]\n",
        "Y=[50, 60, 70]\n",
        "import numpy as np\n",
        "\n",
        "covariance = np.cov(X, Y)[0, 1]\n",
        "correlation = np.corrcoef(X, Y)[0, 1]\n",
        "\n",
        "print(\"Covariance:\", covariance)\n",
        "print(\"Correlation:\", correlation)\n",
        "\n"
      ],
      "metadata": {
        "colab": {
          "base_uri": "https://localhost:8080/"
        },
        "id": "BGJ0TwLSe03Z",
        "outputId": "fafde2c2-d965-4a32-ad47-3367616cbd9c"
      },
      "execution_count": 4,
      "outputs": [
        {
          "output_type": "stream",
          "name": "stdout",
          "text": [
            "Covariance: 20.0\n",
            "Correlation: 1.0\n"
          ]
        }
      ]
    },
    {
      "cell_type": "code",
      "source": [],
      "metadata": {
        "id": "0BOQJXXGetNZ"
      },
      "execution_count": null,
      "outputs": []
    }
  ]
}