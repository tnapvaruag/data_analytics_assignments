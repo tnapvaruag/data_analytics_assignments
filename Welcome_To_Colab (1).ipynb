{
  "cells": [
    {
      "cell_type": "code",
      "source": [
        "#Python Practical Questions and Solutions"
      ],
      "metadata": {
        "id": "hah3TUCGdz-K"
      },
      "execution_count": 6,
      "outputs": []
    },
    {
      "cell_type": "code",
      "source": [
        "#Q1 print Hello, World!\n",
        "\n",
        "print(\"Hello, World!\")"
      ],
      "metadata": {
        "colab": {
          "base_uri": "https://localhost:8080/"
        },
        "id": "QKy2Lzo3u2ED",
        "outputId": "ffe0e84d-eccd-4869-c68c-e85eb5924c6e"
      },
      "execution_count": 7,
      "outputs": [
        {
          "output_type": "stream",
          "name": "stdout",
          "text": [
            "Hello, World!\n"
          ]
        }
      ]
    },
    {
      "cell_type": "code",
      "source": [
        "#Q2 program to displays your name and age\n",
        "\n",
        "n = input(\"Enter your name: \")\n",
        "a = input(\"Enter your age: \")\n",
        "print(\"Your name is\", n, \"and your age is\", a)"
      ],
      "metadata": {
        "colab": {
          "base_uri": "https://localhost:8080/"
        },
        "id": "KDRzirimu_TV",
        "outputId": "fdbc26dc-7140-43c2-8b25-c3116f6e25ab"
      },
      "execution_count": 10,
      "outputs": [
        {
          "output_type": "stream",
          "name": "stdout",
          "text": [
            "Enter your name: Gaurav Pant\n",
            "Enter your age: 24\n",
            "Your name is Gaurav Pant and your age is 24\n"
          ]
        }
      ]
    },
    {
      "cell_type": "code",
      "source": [
        "#Q3 keyword list\n",
        "\n",
        "import keyword\n",
        "print(keyword.kwlist)\n"
      ],
      "metadata": {
        "colab": {
          "base_uri": "https://localhost:8080/"
        },
        "id": "JEzUrsxfvwsD",
        "outputId": "473bfce1-52ea-4730-d8ac-acb0c3e84f79"
      },
      "execution_count": 12,
      "outputs": [
        {
          "output_type": "stream",
          "name": "stdout",
          "text": [
            "['False', 'None', 'True', 'and', 'as', 'assert', 'async', 'await', 'break', 'class', 'continue', 'def', 'del', 'elif', 'else', 'except', 'finally', 'for', 'from', 'global', 'if', 'import', 'in', 'is', 'lambda', 'nonlocal', 'not', 'or', 'pass', 'raise', 'return', 'try', 'while', 'with', 'yield']\n"
          ]
        }
      ]
    },
    {
      "cell_type": "code",
      "source": [
        "#Q4 check a word ias a Python keyword\n",
        "\n",
        "import keyword\n",
        "w = input(\"Enter a word: \")\n",
        "if keyword.iskeyword(w):\n",
        "    print(w, \"is a Python keyword.\")\n",
        "else:\n",
        "    print(w, \"is not a Python keyword.\")"
      ],
      "metadata": {
        "colab": {
          "base_uri": "https://localhost:8080/"
        },
        "id": "jaZ9H8CGwptu",
        "outputId": "ca017022-ced4-43ae-fe54-2dfd5e09a79c"
      },
      "execution_count": 14,
      "outputs": [
        {
          "output_type": "stream",
          "name": "stdout",
          "text": [
            "Enter a word: if\n",
            "if is a Python keyword.\n"
          ]
        }
      ]
    },
    {
      "cell_type": "code",
      "source": [
        "#Q5 check mutability\n",
        "\n",
        "x=[\"ram\", 2, 5] #a list\n",
        "y=(3,4,6) # a tuple\n",
        "\n",
        "x[0]=1\n",
        "print(x)\n",
        "y[0]=1\n",
        "print(y)"
      ],
      "metadata": {
        "colab": {
          "base_uri": "https://localhost:8080/",
          "height": 211
        },
        "id": "0vzp9E5KwGR1",
        "outputId": "f3c9cf68-476a-408e-96ea-cb952c2b8d9f"
      },
      "execution_count": 15,
      "outputs": [
        {
          "output_type": "stream",
          "name": "stdout",
          "text": [
            "[1, 2, 5]\n"
          ]
        },
        {
          "output_type": "error",
          "ename": "TypeError",
          "evalue": "'tuple' object does not support item assignment",
          "traceback": [
            "\u001b[0;31m---------------------------------------------------------------------------\u001b[0m",
            "\u001b[0;31mTypeError\u001b[0m                                 Traceback (most recent call last)",
            "\u001b[0;32m<ipython-input-15-e899b411d94e>\u001b[0m in \u001b[0;36m<cell line: 8>\u001b[0;34m()\u001b[0m\n\u001b[1;32m      6\u001b[0m \u001b[0mx\u001b[0m\u001b[0;34m[\u001b[0m\u001b[0;36m0\u001b[0m\u001b[0;34m]\u001b[0m\u001b[0;34m=\u001b[0m\u001b[0;36m1\u001b[0m\u001b[0;34m\u001b[0m\u001b[0;34m\u001b[0m\u001b[0m\n\u001b[1;32m      7\u001b[0m \u001b[0mprint\u001b[0m\u001b[0;34m(\u001b[0m\u001b[0mx\u001b[0m\u001b[0;34m)\u001b[0m\u001b[0;34m\u001b[0m\u001b[0;34m\u001b[0m\u001b[0m\n\u001b[0;32m----> 8\u001b[0;31m \u001b[0my\u001b[0m\u001b[0;34m[\u001b[0m\u001b[0;36m0\u001b[0m\u001b[0;34m]\u001b[0m\u001b[0;34m=\u001b[0m\u001b[0;36m1\u001b[0m\u001b[0;34m\u001b[0m\u001b[0;34m\u001b[0m\u001b[0m\n\u001b[0m\u001b[1;32m      9\u001b[0m \u001b[0mprint\u001b[0m\u001b[0;34m(\u001b[0m\u001b[0my\u001b[0m\u001b[0;34m)\u001b[0m\u001b[0;34m\u001b[0m\u001b[0;34m\u001b[0m\u001b[0m\n",
            "\u001b[0;31mTypeError\u001b[0m: 'tuple' object does not support item assignment"
          ]
        }
      ]
    },
    {
      "cell_type": "code",
      "source": [
        "# Q6- Q7 function to demonstrate behaviour of mutable and immutable arguments.\n",
        "''' the solution to previous question does the same\n",
        "\n",
        "List is mutable data type whereas tuple is immutable data type.\n",
        "'''"
      ],
      "metadata": {
        "colab": {
          "base_uri": "https://localhost:8080/",
          "height": 36
        },
        "id": "Zzo5GTXpxSk1",
        "outputId": "aa9727cb-dc64-42d7-aaa5-9a6c95933983"
      },
      "execution_count": 17,
      "outputs": [
        {
          "output_type": "execute_result",
          "data": {
            "text/plain": [
              "' the solution to previous question does the same\\n\\nList is mutable data type whereas tuple is immutable data type.\\n'"
            ],
            "application/vnd.google.colaboratory.intrinsic+json": {
              "type": "string"
            }
          },
          "metadata": {},
          "execution_count": 17
        }
      ]
    },
    {
      "cell_type": "code",
      "source": [
        "# Q8 program to demonstrate use of logical operators\n",
        "\n",
        "x=4\n",
        "y=5\n",
        "if x%2==0 and y%2!=0: #and is logical operators used for combining conditional statement\n",
        "    print(\"x is even and y is odd\")\n",
        "\n",
        "else:\n",
        "  print(\"x is odd and y is even\")\n"
      ],
      "metadata": {
        "colab": {
          "base_uri": "https://localhost:8080/"
        },
        "id": "l4rvrCi2yT6A",
        "outputId": "85c1004a-a779-447c-ffc8-77b6e242c9a9"
      },
      "execution_count": 19,
      "outputs": [
        {
          "output_type": "stream",
          "name": "stdout",
          "text": [
            "x is even and y is odd\n"
          ]
        }
      ]
    },
    {
      "cell_type": "code",
      "source": [
        "#9 program to convert user input from string to integer; fload, and boolean types\n",
        "x=input(\"Enter a number: \")\n",
        "print(type(x))\n",
        "print(int(x))\n",
        "print(float(x))\n",
        "print(bool(x))"
      ],
      "metadata": {
        "colab": {
          "base_uri": "https://localhost:8080/"
        },
        "id": "C9lj_RU-zjDO",
        "outputId": "9a6b6655-053c-4e48-9f04-8313ae9333b1"
      },
      "execution_count": 22,
      "outputs": [
        {
          "output_type": "stream",
          "name": "stdout",
          "text": [
            "Enter a number: 100\n",
            "<class 'str'>\n",
            "100\n",
            "100.0\n",
            "True\n"
          ]
        }
      ]
    },
    {
      "cell_type": "code",
      "source": [
        "#10 type casting with list elements\n",
        "\n",
        "x=[4,5,6]\n",
        "print(type(x[0]))\n",
        "x[0]=str(x[0])\n",
        "print(type(x[0]))"
      ],
      "metadata": {
        "colab": {
          "base_uri": "https://localhost:8080/"
        },
        "id": "D7ucU3Ul0Vxh",
        "outputId": "15702a2d-6826-4cf0-a701-8b294f0741ae"
      },
      "execution_count": 23,
      "outputs": [
        {
          "output_type": "stream",
          "name": "stdout",
          "text": [
            "<class 'int'>\n",
            "<class 'str'>\n"
          ]
        }
      ]
    },
    {
      "cell_type": "code",
      "source": [
        "# Q11 to check if a number is positive negative or zero\n",
        "\n",
        "x=int(input(\"Enter a number: \"))\n",
        "if x>0:\n",
        "    print(\"x is positive\")\n",
        "elif x<0:\n",
        "    print(\"x is negative\")\n",
        "else:\n",
        "    print(\"x is zero\")"
      ],
      "metadata": {
        "colab": {
          "base_uri": "https://localhost:8080/"
        },
        "id": "5yd6hUob0wzh",
        "outputId": "cc51ddec-28af-4242-8ab4-ffb35d6d15cc"
      },
      "execution_count": 24,
      "outputs": [
        {
          "output_type": "stream",
          "name": "stdout",
          "text": [
            "Enter a number: -55\n",
            "x is negative\n"
          ]
        }
      ]
    },
    {
      "cell_type": "code",
      "source": [
        "# Q12 for loop to print numbers from 1 to 10\n",
        "\n",
        "for i in range(1,11):\n",
        "    print(i)"
      ],
      "metadata": {
        "colab": {
          "base_uri": "https://localhost:8080/"
        },
        "id": "ZByVjwOg09l5",
        "outputId": "c76a510d-e114-439c-bf40-773bc9c63b06"
      },
      "execution_count": 25,
      "outputs": [
        {
          "output_type": "stream",
          "name": "stdout",
          "text": [
            "1\n",
            "2\n",
            "3\n",
            "4\n",
            "5\n",
            "6\n",
            "7\n",
            "8\n",
            "9\n",
            "10\n"
          ]
        }
      ]
    },
    {
      "cell_type": "code",
      "source": [
        "# Q13 program to find sum of all even number between 1 and 50\n",
        "\n",
        "sum=0\n",
        "for i in range(1,51):\n",
        "    if i%2==0:\n",
        "        sum+=i\n",
        "print(sum)"
      ],
      "metadata": {
        "colab": {
          "base_uri": "https://localhost:8080/"
        },
        "id": "kp4IFMXM1H9H",
        "outputId": "267641ef-897c-4e73-8be7-7460b090694b"
      },
      "execution_count": 26,
      "outputs": [
        {
          "output_type": "stream",
          "name": "stdout",
          "text": [
            "650\n"
          ]
        }
      ]
    },
    {
      "cell_type": "code",
      "source": [
        "# Q14 program to reverse a string using a while loop\n",
        "\n",
        "s=input(\"Enter a string: \")\n",
        "i=len(s)-1\n",
        "while i>=0:\n",
        "    print(s[i], end=\"\")\n",
        "    i-=1"
      ],
      "metadata": {
        "colab": {
          "base_uri": "https://localhost:8080/"
        },
        "id": "7XDVyryr1QrT",
        "outputId": "c13037da-10e0-4515-ee75-77c6589719b0"
      },
      "execution_count": 27,
      "outputs": [
        {
          "output_type": "stream",
          "name": "stdout",
          "text": [
            "Enter a string: Gaurav\n",
            "varuaG"
          ]
        }
      ]
    },
    {
      "cell_type": "code",
      "source": [
        "#Q15 program to calculate the factorial fo a number provided by the user using while loop\n",
        "\n",
        "n=int(input(\"Enter a number: \"))\n",
        "fact=1\n",
        "while n>0:\n",
        "    fact*=n\n",
        "    n-=1\n",
        "print(fact)"
      ],
      "metadata": {
        "colab": {
          "base_uri": "https://localhost:8080/"
        },
        "id": "rNHaCVfM1hrM",
        "outputId": "ad58b715-a85b-400f-9142-268266012b93"
      },
      "execution_count": 28,
      "outputs": [
        {
          "output_type": "stream",
          "name": "stdout",
          "text": [
            "Enter a number: 69\n",
            "171122452428141311372468338881272839092270544893520369393648040923257279754140647424000000000000000\n"
          ]
        }
      ]
    }
  ],
  "metadata": {
    "colab": {
      "name": "Welcome To Colab",
      "toc_visible": true,
      "provenance": []
    },
    "kernelspec": {
      "display_name": "Python 3",
      "name": "python3"
    }
  },
  "nbformat": 4,
  "nbformat_minor": 0
}