{
  "nbformat": 4,
  "nbformat_minor": 0,
  "metadata": {
    "colab": {
      "provenance": []
    },
    "kernelspec": {
      "name": "python3",
      "display_name": "Python 3"
    },
    "language_info": {
      "name": "python"
    }
  },
  "cells": [
    {
      "cell_type": "code",
      "execution_count": 11,
      "metadata": {
        "colab": {
          "base_uri": "https://localhost:8080/"
        },
        "id": "GpfUuVRWxfjl",
        "outputId": "d83a6e16-36ab-4d82-87dd-b8cf037d1e76"
      },
      "outputs": [
        {
          "output_type": "stream",
          "name": "stdout",
          "text": [
            "Gaurav Pant\n"
          ]
        }
      ],
      "source": [
        "#1. Code to create a string with your name and print it.\n",
        "\n",
        "name=\"Gaurav Pant\"\n",
        "print(name)"
      ]
    },
    {
      "cell_type": "code",
      "source": [
        "#2. code to find the length of  the string \"Hello World\"\n",
        "\n",
        "a=\"Hello World\"\n",
        "print (len(a))"
      ],
      "metadata": {
        "colab": {
          "base_uri": "https://localhost:8080/"
        },
        "id": "yKJNqIv-xll8",
        "outputId": "1c0592c9-c858-493f-8dce-5e4dc18d620d"
      },
      "execution_count": 3,
      "outputs": [
        {
          "output_type": "stream",
          "name": "stdout",
          "text": [
            "11\n"
          ]
        }
      ]
    },
    {
      "cell_type": "code",
      "source": [
        "#3. code to slice the first 3 characters from the string \"Python Programming\"\n",
        "\n",
        "b = \"Python Programming\"\n",
        "print (b[3:len(b)])"
      ],
      "metadata": {
        "colab": {
          "base_uri": "https://localhost:8080/"
        },
        "id": "ANMlFBTmyTnA",
        "outputId": "261a745e-f08f-4246-9397-88c6c178581a"
      },
      "execution_count": 6,
      "outputs": [
        {
          "output_type": "stream",
          "name": "stdout",
          "text": [
            "hon Programming\n"
          ]
        }
      ]
    },
    {
      "cell_type": "code",
      "source": [
        "#4. code to convert the string \"hello\" to upper case\n",
        "\n",
        "c = \"hello\"\n",
        "print (c.upper())"
      ],
      "metadata": {
        "colab": {
          "base_uri": "https://localhost:8080/"
        },
        "id": "m_QzsXAKy2Wg",
        "outputId": "417124b9-ce27-4e64-f130-8fa44ce388ea"
      },
      "execution_count": 8,
      "outputs": [
        {
          "output_type": "stream",
          "name": "stdout",
          "text": [
            "HELLO\n"
          ]
        }
      ]
    },
    {
      "cell_type": "code",
      "source": [
        "#5. code to replace the word \"apple\" with \"orange\" in the string \"I like apple\"\n",
        "\n",
        "d=\"I like apple\"\n",
        "print (d.replace(\"apple\",\"orange\"))"
      ],
      "metadata": {
        "colab": {
          "base_uri": "https://localhost:8080/"
        },
        "id": "2rVcwNlFzEHZ",
        "outputId": "618c20e2-9a29-48b8-a8f5-f1abba2e6c11"
      },
      "execution_count": 12,
      "outputs": [
        {
          "output_type": "stream",
          "name": "stdout",
          "text": [
            "I like orange\n"
          ]
        }
      ]
    },
    {
      "cell_type": "code",
      "source": [
        "#6. code to create a list with numbers 1 to 5 and print it.\n",
        "\n",
        "e=[1,2,3,4,5]\n",
        "print (e)"
      ],
      "metadata": {
        "colab": {
          "base_uri": "https://localhost:8080/"
        },
        "id": "qncttkMYzuT4",
        "outputId": "3306889b-8536-4754-df23-7b2bfbfa91a2"
      },
      "execution_count": 13,
      "outputs": [
        {
          "output_type": "stream",
          "name": "stdout",
          "text": [
            "[1, 2, 3, 4, 5]\n"
          ]
        }
      ]
    },
    {
      "cell_type": "code",
      "source": [
        "#7. code to appedn the number 10 to the list [1,2,3,4]\n",
        "\n",
        "f=[1,2,3,4]\n",
        "f.append(10)\n",
        "print (f)"
      ],
      "metadata": {
        "colab": {
          "base_uri": "https://localhost:8080/"
        },
        "id": "pZm4fk3Bz6EQ",
        "outputId": "f72e517b-9817-4c7c-c5c8-c762b79513b9"
      },
      "execution_count": 14,
      "outputs": [
        {
          "output_type": "stream",
          "name": "stdout",
          "text": [
            "[1, 2, 3, 4, 10]\n"
          ]
        }
      ]
    },
    {
      "cell_type": "code",
      "source": [
        "#8. code to remove the number 3 from the lst [1,2,3,4,5]\n",
        "\n",
        "g=[1,2,3,4,5]\n",
        "g.remove(3)\n",
        "print (g)\n"
      ],
      "metadata": {
        "colab": {
          "base_uri": "https://localhost:8080/"
        },
        "id": "NynrPwPb0HI2",
        "outputId": "ce131f77-54a6-4caf-94ff-86adcabb28a0"
      },
      "execution_count": 15,
      "outputs": [
        {
          "output_type": "stream",
          "name": "stdout",
          "text": [
            "[1, 2, 4, 5]\n"
          ]
        }
      ]
    },
    {
      "cell_type": "code",
      "source": [
        "#9. code to access the second elemt in the list [\"a\",\"b\",\"c\",\"d\"]\n",
        "\n",
        "h=['a','b','c','d']\n",
        "print (h[1])"
      ],
      "metadata": {
        "colab": {
          "base_uri": "https://localhost:8080/"
        },
        "id": "AHMYbFO60WHh",
        "outputId": "e999151b-c7ac-4cce-b4b5-1113681b7a84"
      },
      "execution_count": 16,
      "outputs": [
        {
          "output_type": "stream",
          "name": "stdout",
          "text": [
            "b\n"
          ]
        }
      ]
    },
    {
      "cell_type": "code",
      "source": [
        "#10. code to reverse the list [10,20,30,40,50]\n",
        "\n",
        "i=[10,20,30,40,50]\n",
        "i.reverse()\n",
        "print (i)"
      ],
      "metadata": {
        "colab": {
          "base_uri": "https://localhost:8080/"
        },
        "id": "mmTMtv740V24",
        "outputId": "5baba415-7862-459b-9262-b3046c17d959"
      },
      "execution_count": 20,
      "outputs": [
        {
          "output_type": "stream",
          "name": "stdout",
          "text": [
            "[50, 40, 30, 20, 10]\n"
          ]
        }
      ]
    },
    {
      "cell_type": "code",
      "source": [
        "#11. code to create a tuple with the elements 10,20,30 and print it.\n",
        "\n",
        "j=(10,20,30)\n",
        "print(j)\n"
      ],
      "metadata": {
        "colab": {
          "base_uri": "https://localhost:8080/"
        },
        "id": "XhDXE56t0-kh",
        "outputId": "098b8626-af67-48c7-8cd3-c9c143de4789"
      },
      "execution_count": 21,
      "outputs": [
        {
          "output_type": "stream",
          "name": "stdout",
          "text": [
            "(10, 20, 30)\n"
          ]
        }
      ]
    },
    {
      "cell_type": "code",
      "source": [
        "#12. code to access the first element of the tuple ('apple', 'banana', 'cherry')\n",
        "\n",
        "k= ('apple', 'banana', 'cherry')\n",
        "print (k[0])"
      ],
      "metadata": {
        "colab": {
          "base_uri": "https://localhost:8080/"
        },
        "id": "HsBbZ9y81JMz",
        "outputId": "14d16016-e68d-4353-f351-c8630fc2b315"
      },
      "execution_count": 23,
      "outputs": [
        {
          "output_type": "stream",
          "name": "stdout",
          "text": [
            "apple\n"
          ]
        }
      ]
    },
    {
      "cell_type": "code",
      "source": [
        "#13. code to count how many times the number 2 appears in the tuple (1,2,3,2,4,2)\n",
        "\n",
        "l=(1,2,3,2,4,2)\n",
        "print (l.count(2))"
      ],
      "metadata": {
        "colab": {
          "base_uri": "https://localhost:8080/"
        },
        "id": "ZNxusgiS1dCp",
        "outputId": "13e706d6-3c1d-48a3-fb86-0900f17ebfdc"
      },
      "execution_count": 25,
      "outputs": [
        {
          "output_type": "stream",
          "name": "stdout",
          "text": [
            "3\n"
          ]
        }
      ]
    },
    {
      "cell_type": "code",
      "source": [
        "#14. code to find the index of the element \"cat\" in the tuple ('dog','cat',rabbit')\n",
        "\n",
        "m=('dog','cat', 'rabbit')\n",
        "print (m.index('cat'))"
      ],
      "metadata": {
        "colab": {
          "base_uri": "https://localhost:8080/"
        },
        "id": "_C7XlTgm1c7X",
        "outputId": "7f89ce06-d5ab-4020-a2e7-d5ffa042789b"
      },
      "execution_count": 26,
      "outputs": [
        {
          "output_type": "stream",
          "name": "stdout",
          "text": [
            "1\n"
          ]
        }
      ]
    },
    {
      "cell_type": "code",
      "source": [
        "#15. code to check if the element \"banana\" is in the tuple ('apple','orange','banana)\n",
        "\n",
        "n=('apple','orange','banana')\n",
        "print ('banana' in n)"
      ],
      "metadata": {
        "colab": {
          "base_uri": "https://localhost:8080/"
        },
        "id": "iJzvRDWN1cwB",
        "outputId": "be035c8c-d80c-49d9-92e7-9721dab4de2f"
      },
      "execution_count": 31,
      "outputs": [
        {
          "output_type": "stream",
          "name": "stdout",
          "text": [
            "True\n"
          ]
        }
      ]
    },
    {
      "cell_type": "code",
      "source": [
        "#16. code to create a set with the elements 1,2,3,4,5 and print it.\n",
        "\n",
        "o={1,2,3,4,5}\n",
        "print (o)"
      ],
      "metadata": {
        "colab": {
          "base_uri": "https://localhost:8080/"
        },
        "id": "zuCIvi5T2HLN",
        "outputId": "f53fc8e9-5899-4bcc-e52d-eeb5e9081d4b"
      },
      "execution_count": 32,
      "outputs": [
        {
          "output_type": "stream",
          "name": "stdout",
          "text": [
            "{1, 2, 3, 4, 5}\n"
          ]
        }
      ]
    },
    {
      "cell_type": "code",
      "source": [
        "#17. code to add the element 6 to the set {1,2,3,4}\n",
        "\n",
        "p={1,2,3,4}\n",
        "p.add(6)\n",
        "print (p)"
      ],
      "metadata": {
        "colab": {
          "base_uri": "https://localhost:8080/"
        },
        "id": "aHVqFlVs2HEa",
        "outputId": "9e921056-8831-423c-e82d-a908abef9c6c"
      },
      "execution_count": 34,
      "outputs": [
        {
          "output_type": "stream",
          "name": "stdout",
          "text": [
            "{1, 2, 3, 4, 6}\n"
          ]
        }
      ]
    },
    {
      "cell_type": "code",
      "source": [
        "#18. code to create a tuple with the element 10,20,30 and print it.\n",
        "\n",
        "q=(10,20,30)\n",
        "print (q)"
      ],
      "metadata": {
        "colab": {
          "base_uri": "https://localhost:8080/"
        },
        "id": "2YIZaMJu2G5s",
        "outputId": "ba66046d-4ee7-4125-e488-4908afacf534"
      },
      "execution_count": 35,
      "outputs": [
        {
          "output_type": "stream",
          "name": "stdout",
          "text": [
            "(10, 20, 30)\n"
          ]
        }
      ]
    },
    {
      "cell_type": "code",
      "source": [
        "#19. code to access the first element of the tuple ('apple', 'banana', 'cherry')\n",
        "\n",
        "r=('apple','bnana','cheery')\n",
        "print (r[0])\n"
      ],
      "metadata": {
        "colab": {
          "base_uri": "https://localhost:8080/"
        },
        "id": "zGR4EaRT2jJk",
        "outputId": "fa36042f-a99c-4386-ac6e-a49bf02ce522"
      },
      "execution_count": 36,
      "outputs": [
        {
          "output_type": "stream",
          "name": "stdout",
          "text": [
            "apple\n"
          ]
        }
      ]
    },
    {
      "cell_type": "code",
      "source": [
        "#20. code to count how many times the nuber 2 appears in the tuple (1,2,3,2,4,2)\n",
        "\n",
        "s=(1,2,3,2,4,2)\n",
        "print (s.count(2))"
      ],
      "metadata": {
        "colab": {
          "base_uri": "https://localhost:8080/"
        },
        "id": "7I3Fdyw82xtp",
        "outputId": "e3ffe43b-bc3d-4ea2-8a2d-2f38bceeb209"
      },
      "execution_count": 37,
      "outputs": [
        {
          "output_type": "stream",
          "name": "stdout",
          "text": [
            "3\n"
          ]
        }
      ]
    },
    {
      "cell_type": "code",
      "source": [
        "#21. code to find the index of the element 'cat' in tuple ('dog','cat','rabbit')\n",
        "\n",
        "t=('dog','cat','rabbit')\n",
        "print (t.index('cat'))"
      ],
      "metadata": {
        "colab": {
          "base_uri": "https://localhost:8080/"
        },
        "id": "f72BRFvJ29r-",
        "outputId": "aeb2086f-08c6-4023-e5f0-36911e4e7046"
      },
      "execution_count": 38,
      "outputs": [
        {
          "output_type": "stream",
          "name": "stdout",
          "text": [
            "1\n"
          ]
        }
      ]
    },
    {
      "cell_type": "code",
      "source": [
        "#22 code to check if the element 'banana' is in the tuple ('apple','orange','banana')\n",
        "\n",
        "u=('apple','orange','banana')\n",
        "print ('banana' in u)"
      ],
      "metadata": {
        "colab": {
          "base_uri": "https://localhost:8080/"
        },
        "id": "1YeOVbRG3I9G",
        "outputId": "a1bee843-d048-4cfc-cfb7-81a44a5a680b"
      },
      "execution_count": 39,
      "outputs": [
        {
          "output_type": "stream",
          "name": "stdout",
          "text": [
            "True\n"
          ]
        }
      ]
    },
    {
      "cell_type": "code",
      "source": [
        "#23. code to create a set with the elements 1,2,3,4,5 and print it.\n",
        "\n",
        "v={1,2,3,4,5}\n",
        "print (v)\n"
      ],
      "metadata": {
        "colab": {
          "base_uri": "https://localhost:8080/"
        },
        "id": "Lef2YxfB3U2T",
        "outputId": "84514787-dd2b-4a83-c1e1-60981242aea1"
      },
      "execution_count": 40,
      "outputs": [
        {
          "output_type": "stream",
          "name": "stdout",
          "text": [
            "{1, 2, 3, 4, 5}\n"
          ]
        }
      ]
    },
    {
      "cell_type": "code",
      "source": [
        "#24. Write a code to add the element 6 to the set {1,2,3,4}\n",
        "w={1,2,3,4}\n",
        "w.add(6)\n",
        "print (w)"
      ],
      "metadata": {
        "colab": {
          "base_uri": "https://localhost:8080/"
        },
        "id": "JvVUaY_z3eVM",
        "outputId": "c94d6783-abe6-422d-f414-e0e6fdfaadfa"
      },
      "execution_count": 41,
      "outputs": [
        {
          "output_type": "stream",
          "name": "stdout",
          "text": [
            "{1, 2, 3, 4, 6}\n"
          ]
        }
      ]
    },
    {
      "cell_type": "code",
      "source": [],
      "metadata": {
        "id": "R8-ZP71m3mdP"
      },
      "execution_count": null,
      "outputs": []
    }
  ]
}