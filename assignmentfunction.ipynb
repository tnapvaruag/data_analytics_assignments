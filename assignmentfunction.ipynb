{
  "nbformat": 4,
  "nbformat_minor": 0,
  "metadata": {
    "colab": {
      "provenance": []
    },
    "kernelspec": {
      "name": "python3",
      "display_name": "Python 3"
    },
    "language_info": {
      "name": "python"
    }
  },
  "cells": [
    {
      "cell_type": "code",
      "execution_count": 2,
      "metadata": {
        "colab": {
          "base_uri": "https://localhost:8080/"
        },
        "id": "KVXje5uWA-iw",
        "outputId": "1b9ce321-d413-494f-924f-c88e8d29d717"
      },
      "outputs": [
        {
          "output_type": "execute_result",
          "data": {
            "text/plain": [
              "30"
            ]
          },
          "metadata": {},
          "execution_count": 2
        }
      ],
      "source": [
        "#1. function that takes a list of numbers as input and returns athe sum of all even number in the list.\n",
        "\n",
        "def sum_even_numbers(numbers):\n",
        "    sum_even = 0\n",
        "    for number in numbers:\n",
        "        if number % 2 == 0:\n",
        "            sum_even += number\n",
        "    return sum_even\n",
        "sum_even_numbers([1,2,3,4,5,6,7,8,9,10])\n"
      ]
    },
    {
      "cell_type": "code",
      "source": [
        "#2. function that accepts a string and return the reverse of that string\n",
        "\n",
        "def reverse_string(string):\n",
        "    return string[::-1]\n",
        "reverse_string(\"Gaurav\")"
      ],
      "metadata": {
        "colab": {
          "base_uri": "https://localhost:8080/",
          "height": 36
        },
        "id": "5k5Ax97kBYo_",
        "outputId": "d5db8b08-7994-4b81-cc26-8de1624a1157"
      },
      "execution_count": 4,
      "outputs": [
        {
          "output_type": "execute_result",
          "data": {
            "text/plain": [
              "'varuaG'"
            ],
            "application/vnd.google.colaboratory.intrinsic+json": {
              "type": "string"
            }
          },
          "metadata": {},
          "execution_count": 4
        }
      ]
    },
    {
      "cell_type": "code",
      "source": [
        "#3. function that takes a list of integers and returns a new list containing squares of each number.\n",
        "\n",
        "def square_numbers(numbers):\n",
        "    squares = []\n",
        "    for number in numbers:\n",
        "        squares.append(number**2)\n",
        "    return squares\n",
        "square_numbers([1,2,3,4,5])"
      ],
      "metadata": {
        "colab": {
          "base_uri": "https://localhost:8080/"
        },
        "id": "cnHCIBszBn7i",
        "outputId": "c0d5339a-73c8-4773-ad36-9f10839e2dcf"
      },
      "execution_count": 5,
      "outputs": [
        {
          "output_type": "execute_result",
          "data": {
            "text/plain": [
              "[1, 4, 9, 16, 25]"
            ]
          },
          "metadata": {},
          "execution_count": 5
        }
      ]
    },
    {
      "cell_type": "code",
      "source": [
        "#4. functin that checks if a given number is prime or not from 1 to 200\n",
        "\n",
        "def is_prime(number):\n",
        "    if number < 2:\n",
        "        return False\n",
        "    for i in range(2, int(number**0.5) + 1):\n",
        "        if number % i == 0:\n",
        "            return False\n",
        "    return True\n",
        "\n",
        "is_prime(23)"
      ],
      "metadata": {
        "colab": {
          "base_uri": "https://localhost:8080/"
        },
        "id": "qCdtkONYB1Wk",
        "outputId": "9c8a66c9-af54-431b-9d37-fd1620f401c0"
      },
      "execution_count": 6,
      "outputs": [
        {
          "output_type": "execute_result",
          "data": {
            "text/plain": [
              "True"
            ]
          },
          "metadata": {},
          "execution_count": 6
        }
      ]
    },
    {
      "cell_type": "code",
      "source": [
        "# 5. iterator calss that generates the fibonacci sequence upto a specified number of terms\n",
        "\n",
        "def fibonacci_sequence(n):\n",
        "    a, b = 0, 1\n",
        "    for _ in range(n):\n",
        "        yield a\n",
        "        a, b = b, a + b\n",
        "for number in fibonacci_sequence(10):\n",
        "    print(number)"
      ],
      "metadata": {
        "colab": {
          "base_uri": "https://localhost:8080/"
        },
        "id": "WdKibGXpCdRp",
        "outputId": "7634e235-5753-4167-af01-3fe2826688e1"
      },
      "execution_count": 7,
      "outputs": [
        {
          "output_type": "stream",
          "name": "stdout",
          "text": [
            "0\n",
            "1\n",
            "1\n",
            "2\n",
            "3\n",
            "5\n",
            "8\n",
            "13\n",
            "21\n",
            "34\n"
          ]
        }
      ]
    },
    {
      "cell_type": "code",
      "source": [
        "#6. generator function that yields the powers of 2 up to a given exponent\n",
        "\n",
        "def power_of_two(exponent):\n",
        "    for i in range(exponent + 1):\n",
        "        yield 2 ** i\n",
        "for power in power_of_two(5):\n",
        "    print(power)"
      ],
      "metadata": {
        "colab": {
          "base_uri": "https://localhost:8080/"
        },
        "id": "K66O-xwUCq1i",
        "outputId": "e79bf017-9d06-4ba3-9a5b-8309af7b431c"
      },
      "execution_count": 8,
      "outputs": [
        {
          "output_type": "stream",
          "name": "stdout",
          "text": [
            "1\n",
            "2\n",
            "4\n",
            "8\n",
            "16\n",
            "32\n"
          ]
        }
      ]
    },
    {
      "cell_type": "code",
      "source": [
        "#7. generator function that reads a file line by line and yields each line as a string\n",
        "\n",
        "def read_file_lines(file_path):\n",
        "    with open(file_path, 'r') as file:\n",
        "        for line in file:\n",
        "            yield line.strip()"
      ],
      "metadata": {
        "id": "EfmReY5gC5kz"
      },
      "execution_count": 9,
      "outputs": []
    },
    {
      "cell_type": "code",
      "source": [
        "#8. lambda function to sort a list of tuples based on the second element of each tuple\n",
        "\n",
        "def sort_tuples(tuples):\n",
        "    return sorted(tuples, key=lambda x: x[1])\n",
        "\n",
        "sort_tuples([(2,3,5,3,2),(3,1,3,2)])\n"
      ],
      "metadata": {
        "colab": {
          "base_uri": "https://localhost:8080/"
        },
        "id": "82bKiyPPDJaX",
        "outputId": "d61d426c-30f9-4596-b0ef-2bf33fe726cf"
      },
      "execution_count": 13,
      "outputs": [
        {
          "output_type": "execute_result",
          "data": {
            "text/plain": [
              "[(3, 1, 3, 2), (2, 3, 5, 3, 2)]"
            ]
          },
          "metadata": {},
          "execution_count": 13
        }
      ]
    },
    {
      "cell_type": "code",
      "source": [
        "#9. program that uses map() to convert a list of temperatures from celsius to fahrenheit\n",
        "\n",
        "def celsius_to_fahrenheit(celsius):\n",
        "    return (celsius * 9/5) + 3\n",
        "\n",
        "a=[10,54,32]\n",
        "x=list(map(celsius_to_fahrenheit,a))\n",
        "print(x)\n"
      ],
      "metadata": {
        "colab": {
          "base_uri": "https://localhost:8080/"
        },
        "id": "YI_YVBfDEDCf",
        "outputId": "506d51ee-fcf2-4ccb-ed76-5fba43d5b0cc"
      },
      "execution_count": 15,
      "outputs": [
        {
          "output_type": "stream",
          "name": "stdout",
          "text": [
            "[21.0, 100.2, 60.6]\n"
          ]
        }
      ]
    },
    {
      "cell_type": "code",
      "source": [
        "#10. program that uses filter() to remove all the vowels from a given string\n",
        "\n",
        "def remove_vowels(string):\n",
        "    vowels = 'aeiouAEIOU'\n",
        "    return ''.join(filter(lambda x: x not in vowels, string))\n",
        "remove_vowels(\"Gaurav\")"
      ],
      "metadata": {
        "colab": {
          "base_uri": "https://localhost:8080/",
          "height": 36
        },
        "id": "TVIDMj-DEtbQ",
        "outputId": "4671111b-246f-485d-c8d8-5739b56a892a"
      },
      "execution_count": 16,
      "outputs": [
        {
          "output_type": "execute_result",
          "data": {
            "text/plain": [
              "'Grv'"
            ],
            "application/vnd.google.colaboratory.intrinsic+json": {
              "type": "string"
            }
          },
          "metadata": {},
          "execution_count": 16
        }
      ]
    },
    {
      "cell_type": "code",
      "source": [
        "#11. program which returns a list with 2-tuples. Each tuple conssts of the ordernumber and the product of the price per item and te qunatity. The product should be increased by 10 if the value of order is smaller than 10000\n",
        "\n",
        "\n",
        "\n",
        "def bill(order):\n",
        "  result=[]\n",
        "  for i in range (1,len(order)):\n",
        "    if order[i][2]*order[i][3]<10000:\n",
        "      result.append((order[i][0],order[i][2]*order[i][3]+10))\n",
        "    else:\n",
        "      result.append((order[i][0],order[i][2]*order[i][3]))\n",
        "  return result\n",
        "\n",
        "order=[[\"Order Number\", \"Book Title and author\",\"Quantity\", \"Price per item\"],[34587, \"Learning Python, Mark lutz\",4,40.95]]\n",
        "bill(order)\n",
        "\n",
        "\n",
        "\n",
        "\n"
      ],
      "metadata": {
        "colab": {
          "base_uri": "https://localhost:8080/"
        },
        "id": "fX1lY5kzE9ub",
        "outputId": "c64e1e6a-5663-4b11-ca1f-4427c573d3a1"
      },
      "execution_count": 19,
      "outputs": [
        {
          "output_type": "execute_result",
          "data": {
            "text/plain": [
              "[(34587, 173.8)]"
            ]
          },
          "metadata": {},
          "execution_count": 19
        }
      ]
    },
    {
      "cell_type": "code",
      "source": [
        "#12. Python program using lambda and map\n",
        "\n",
        "def square_numbers(numbers):\n",
        "    return list(map(lambda x: x**2, numbers))\n",
        "square_numbers([1,2,3,4,5])"
      ],
      "metadata": {
        "colab": {
          "base_uri": "https://localhost:8080/"
        },
        "id": "l-AqTvbjJcdN",
        "outputId": "b9d1e646-3ce6-4aef-f50e-070920deea5d"
      },
      "execution_count": 20,
      "outputs": [
        {
          "output_type": "execute_result",
          "data": {
            "text/plain": [
              "[1, 4, 9, 16, 25]"
            ]
          },
          "metadata": {},
          "execution_count": 20
        }
      ]
    }
  ]
}