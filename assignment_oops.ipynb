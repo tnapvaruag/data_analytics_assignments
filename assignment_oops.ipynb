{
  "nbformat": 4,
  "nbformat_minor": 0,
  "metadata": {
    "colab": {
      "provenance": []
    },
    "kernelspec": {
      "name": "python3",
      "display_name": "Python 3"
    },
    "language_info": {
      "name": "python"
    }
  },
  "cells": [
    {
      "cell_type": "markdown",
      "source": [
        "1. What is Object-Oriented Programming (OOP)?\n",
        "Ans.OOP is a computer programming style that uses objects to model systems. Objcts are made up of data and function and are used to create porgrams that interact with each other.\n",
        "\n",
        "2. What is a class in OOP?\n",
        "Ans.Class is a template for creating objects. Classes define the methods and variables that obejcts of a prarticular type will have.\n",
        "\n",
        "3. What is an object in OOP?\n",
        "Ans. An object is a unit of code that represents a specific aspect of a program. They are also called building blocks of OOP and are used to model a system.\n",
        "\n",
        "4. What is the difference between abstraction and encapsulation?\n",
        "Ans. Abstraction divides a prgoram into tasks that can be reused whereas encapsulation wraps data and code into a single entity.\n",
        "\n",
        "5. What are dunder methods in Python?\n",
        "Ans. Dunder methods are also called magic methods or special methdods. They are predefined methods in Python that allows you to customize the behaviour of your object. They are recognized by the double underscore format . eg. __methodname__\n",
        "\n",
        "6. Explain the concept of inheritance in OOP?\n",
        "Ans. Inheritance allows us to define a class that inherits all the methods and properties form another class.\n",
        "\n",
        "7. What is polymorphism in OOP?\n",
        "Ans. it refers to methods/ functions/ operators with the same name than can be executed on many objects or classes.\n",
        "\n",
        "8. How is encapsulation achieved in Python?\n",
        "Ans. Encapsulation in Python is achieved using access modifiers to limit access to a class's variable and methods. These acess modifiers include public, private and protected.\n",
        "\n",
        "9. What is a constructor in Python?\n",
        "Ans. A special method that creates and intializes an object of a class. It's automatically called when an object is created\n",
        "\n",
        "10. What are class and static methods in Python?\n",
        "Ans. A class method receives the class as an implicit first argument,just like an isntance method receives the instance.A class method is bound to class not to the object of the class. Whereas static method can't access or modify the classs state. Static method is also bound to the class but need no specific parameters.\n",
        "\n",
        "11. What is method overloading in Python?\n",
        "Ans. In method overloading the child class can change its functions that are defined by its ancestral classes.\n",
        "\n",
        "12. What is method overriding in OOP?\n",
        "Ans. A programming technique that allows a class to have multiple methods with the same name but different parameters.\n",
        "\n",
        "13. What is a property decorator in Python?\n",
        "Ans. A decorator feature in Python wraps in function, append several functionalities to existing code and then returns it.\n",
        "\n",
        "14. Why is polymorphism important in OOP?\n",
        "Ans. it lets programmers perform a single action in various ways and define multiple forms of a single object, variable or method.\n",
        "\n",
        "15. What is an abstract class in Python?\n",
        "Ans. class that cannot be instantiated on its own and is designed to be a blueprint for other classes.\n",
        "\n",
        "16. What are the advantages of OOP?\n",
        "Ans.Code organization; Code reusability; Flexibility; Scalability;easy troubleshooting; Data Security etc are some advantages of oop.\n",
        "\n",
        "17. What is the difference between a class variable and an instance variable?\n",
        "Ans. Class variables are shared by all instances of a clsss, while in-stance varaibles are unique to each instance.\n",
        "\n",
        "18. What is multiple inheritance in Python?\n",
        "Ans. A feature that allows a class to inherit from more than one parent class.\n",
        "\n",
        "19. Explain the purpose of ‘’__str__’ and ‘__repr__’ ‘ methods in Python.\n",
        "Ans. __str__ method returns a simpler description with information for the user of the progrma. The __repr__ method returns a details description for a  programmer who needs to maintain and debug the code.\n",
        "\n",
        "20. What is the significance of the ‘super()’ function in Python?\n",
        "Ans.it allows access to methods and properties of a parent lclass from a child class. It allows overriding and extending the behaviours of parent class.\n",
        "\n",
        "\n",
        "21. What is the significance of the __del__ method in Python?\n",
        "Ans. it is a destructor method. It allows you to define specific cleanup actions that should be taken when an object in garbage collected.\n",
        "\n",
        "22. What is the difference between @staticmethod and @classmethod in Python?\n",
        "Ans. In class method the class is bound to the method as the first argument (cls) the same is not true for static method as it doesnot require specific parameters as class method.\n",
        "\n",
        "23. How does polymorphism work in Python with inheritance?\n",
        "Ans. Polymorphism can be achieved using class inheritance by defining a common interface in a base class and then providing specific implimentation in derived classes.\n",
        "\n",
        "24. What is method chaining in Python OOP?\n",
        "Ans. Method chaining refers to calling multiple methods sequentially on the same object in a single expression.\n",
        "\n",
        "25. What is the purpose of the __call__ method in Python?\n",
        "Ans. it enables programmers to write classes where the instances behave life functions and can be called like a function.\n",
        "\n"
      ],
      "metadata": {
        "id": "wrPQaAcaHQah"
      }
    },
    {
      "cell_type": "code",
      "source": [
        "'''1.  Create a parent class Animal with a method speak() that prints a generic message. Create a child class Dog\n",
        "that overrides the speak() method to print \"Bark!\".'''\n",
        "\n",
        "class Animal:\n",
        "    def speak(self):\n",
        "        print(\"Bhaw Bhaw\")\n",
        "class Dog(Animal):\n",
        "    def speak(self):\n",
        "        print(\"Bark!\")\n",
        "\n",
        "obj1= Dog()\n",
        "obj1.speak()"
      ],
      "metadata": {
        "colab": {
          "base_uri": "https://localhost:8080/"
        },
        "id": "tgf4_VpzQ7g3",
        "outputId": "890f1c86-343f-4298-8ff8-c7fabf401de4"
      },
      "execution_count": 4,
      "outputs": [
        {
          "output_type": "stream",
          "name": "stdout",
          "text": [
            "Bark!\n"
          ]
        }
      ]
    },
    {
      "cell_type": "code",
      "source": [
        "''' 2.  create an abstract class Shape with a method area(). Derive classes Circle and Rectangle\n",
        "from it and implement the area() method in both '''\n",
        "\n",
        "class Shape:\n",
        "    def area(self):\n",
        "        pass\n",
        "class Circle(Shape):\n",
        "    def area(self,r):\n",
        "        return 3.14*r*r\n",
        "class Rectangle(Shape):\n",
        "    def area(self,l,b):\n",
        "        return l*b\n",
        "\n",
        "obj2= Circle()\n",
        "print(obj2.area(5))\n",
        "obj3= Rectangle()\n",
        "print(obj3.area(5,10))\n"
      ],
      "metadata": {
        "colab": {
          "base_uri": "https://localhost:8080/"
        },
        "id": "uDbLMTm1Rnmt",
        "outputId": "787971d1-304d-4dde-827d-3e87703b977c"
      },
      "execution_count": 5,
      "outputs": [
        {
          "output_type": "stream",
          "name": "stdout",
          "text": [
            "78.5\n",
            "50\n"
          ]
        }
      ]
    },
    {
      "cell_type": "code",
      "source": [
        "'''3.  Implement a multi-level inheritance scenario where a class Vehicle has an attribute type. Derive a class Car\n",
        "and further derive a class ElectricCar that adds a battery attribute'''\n",
        "\n",
        "class Vehicle:\n",
        "    def __init__(self,type):\n",
        "        self.type=type\n",
        "\n",
        "class Car(Vehicle):\n",
        "    def __init__(self,type,model):\n",
        "        super().__init__(type)\n",
        "        self.model=model\n",
        "\n",
        "class ElectricCar(Car):\n",
        "    def __init__(self,type,model,battery):\n",
        "        super().__init__(type,model)\n",
        "        self.battery=battery\n",
        "\n",
        "obj4= Car(\"BMW\", 2022)\n",
        "print(obj4.type)\n",
        "print(obj4.model)\n",
        "obj5= ElectricCar(\"EV\",2023,5000)\n",
        "print(obj5.type)\n",
        "print(obj5.model)\n",
        "print(obj5.battery)"
      ],
      "metadata": {
        "colab": {
          "base_uri": "https://localhost:8080/"
        },
        "id": "a7OX1lXnSE4J",
        "outputId": "edf83a18-b18b-4075-eb83-2f4f4d3a6b14"
      },
      "execution_count": 8,
      "outputs": [
        {
          "output_type": "stream",
          "name": "stdout",
          "text": [
            "BMW\n",
            "2022\n",
            "EV\n",
            "2023\n",
            "5000\n"
          ]
        }
      ]
    },
    {
      "cell_type": "code",
      "source": [
        "'''4.  Implement a multi-level inheritance scenario where a class Vehicle has an attribute type. Derive a class Car\n",
        "and further derive a class ElectricCar that adds a battery attribute'''\n",
        "\n",
        "class Vehicle:\n",
        "    def __init__(self,type):\n",
        "        self.type=type\n",
        "\n",
        "class Car(Vehicle):\n",
        "    def __init__(self,type,model):\n",
        "        super().__init__(type)\n",
        "        self.model=model\n",
        "\n",
        "class ElectricCar(Car):\n",
        "    def __init__(self,type,model,battery):\n",
        "        super().__init__(type,model)\n",
        "        self.battery=battery\n",
        "\n",
        "obj4= Car(\"BMW\", 2022)\n",
        "print(obj4.type)\n",
        "print(obj4.model)\n",
        "obj5= ElectricCar(\"EV\",2023,5000)\n",
        "print(obj5.type)\n",
        "print(obj5.model)\n",
        "print(obj5.battery)"
      ],
      "metadata": {
        "colab": {
          "base_uri": "https://localhost:8080/"
        },
        "id": "O1T6FUm7TCwN",
        "outputId": "863d512b-e2d1-4cea-dd64-6befe8bcd570"
      },
      "execution_count": 9,
      "outputs": [
        {
          "output_type": "stream",
          "name": "stdout",
          "text": [
            "BMW\n",
            "2022\n",
            "EV\n",
            "2023\n",
            "5000\n"
          ]
        }
      ]
    },
    {
      "cell_type": "code",
      "source": [
        "'''5. a program to demonstrate encapsulation by creating a class BankAccount with private attributes\n",
        "balance and methods to deposit, withdraw, and check balance.'''\n",
        "\n",
        "class BankAccount:\n",
        "    def __init__(self,balance):\n",
        "        self.__balance=balance\n",
        "\n",
        "    def deposit(self,amount):\n",
        "        self.__balance+=amount\n",
        "\n",
        "    def withdraw(self,amount):\n",
        "        if amount<=self.__balance:\n",
        "            self.__balance-=amount\n",
        "        else:\n",
        "            print(\"Insufficient balance\")\n",
        "\n",
        "obj6= BankAccount(1000)\n",
        "obj6.deposit(500)\n",
        "obj6.withdraw(200)\n",
        "print(obj6._BankAccount__balance)"
      ],
      "metadata": {
        "colab": {
          "base_uri": "https://localhost:8080/"
        },
        "id": "CBGWOSNbZ56c",
        "outputId": "eb9f1795-47f4-4bdb-a640-c6803410b680"
      },
      "execution_count": 44,
      "outputs": [
        {
          "output_type": "stream",
          "name": "stdout",
          "text": [
            "1300\n"
          ]
        }
      ]
    },
    {
      "cell_type": "code",
      "source": [
        "'''6. Demonstrate runtime polymorphism using a method play() in a base class Instrument. Derive classes Guitar\n",
        "and Piano that implement their own version of play()'''\n",
        "\n",
        "class Instrument:\n",
        "    def play(self):\n",
        "        pass\n",
        "class Guitar(Instrument):\n",
        "    def play(self):\n",
        "        print(\"Guitar is playing\")\n",
        "class Piano(Instrument):\n",
        "    def play(self):\n",
        "        print(\"Piano is playing\")\n",
        "\n",
        "obj7=Guitar()\n",
        "obj7.play()\n",
        "obj8=Piano()\n",
        "obj8.play()\n"
      ],
      "metadata": {
        "colab": {
          "base_uri": "https://localhost:8080/"
        },
        "id": "iYjrXH8MTmig",
        "outputId": "070132a2-f581-4acb-b130-0f80db4331e8"
      },
      "execution_count": 13,
      "outputs": [
        {
          "output_type": "stream",
          "name": "stdout",
          "text": [
            "Guitar is playing\n",
            "Piano is playing\n"
          ]
        }
      ]
    },
    {
      "cell_type": "code",
      "source": [
        "'''7. a class MathOperations with a class method add_numbers() to add two numbers and a static\n",
        "method subtract_numbers() to subtract two numbers.'''\n",
        "\n",
        "class MathOperations:\n",
        "    @classmethod\n",
        "    def add_numbers(cls, num1, num2):\n",
        "        return num1 + num2\n",
        "\n",
        "    @staticmethod\n",
        "    def subtract_numbers(num1, num2):\n",
        "        return num1 - num2\n",
        "\n",
        "obj9= MathOperations()\n",
        "print(obj9.add_numbers(5,10))\n",
        "print(obj9.subtract_numbers(10,5))\n"
      ],
      "metadata": {
        "colab": {
          "base_uri": "https://localhost:8080/"
        },
        "id": "e7fAdLmfUGS_",
        "outputId": "d71dbb5c-c032-4195-e230-a9ae035780bc"
      },
      "execution_count": 14,
      "outputs": [
        {
          "output_type": "stream",
          "name": "stdout",
          "text": [
            "15\n",
            "5\n"
          ]
        }
      ]
    },
    {
      "cell_type": "code",
      "source": [
        "'''8. a class Person with a class method to count the total number of persons created '''\n",
        "\n",
        "class Person:\n",
        "    count=0\n",
        "    def __init__(self,name,age):\n",
        "        self.name=name\n",
        "        self.age=age\n",
        "        Person.count+=1\n",
        "\n",
        "    @classmethod\n",
        "    def total_persons(cls):\n",
        "        return cls.count\n",
        "\n",
        "obj10= Person(\"Ram\",19).total_persons()\n",
        "print(obj10)\n",
        "obj11= Person(\"Shyam\",20).total_persons()\n",
        "print(obj11)\n",
        "obj12= Person(\"Gaurav\",24).total_persons()\n",
        "print(obj12)"
      ],
      "metadata": {
        "colab": {
          "base_uri": "https://localhost:8080/"
        },
        "id": "RtRHYMWNUUje",
        "outputId": "4f4c8c53-0259-41f3-94ee-14a45310527b"
      },
      "execution_count": 16,
      "outputs": [
        {
          "output_type": "stream",
          "name": "stdout",
          "text": [
            "1\n",
            "2\n",
            "3\n"
          ]
        }
      ]
    },
    {
      "cell_type": "code",
      "source": [
        "'''9. a class Fraction with attributes numerator and denominator. Override the str method to display the\n",
        "fraction as \"numerator/denominator'''\n",
        "\n",
        "class Fraction():\n",
        "  def __init__(self,numerator,denominator):\n",
        "    self.numerator=numerator\n",
        "    self.denominator=denominator\n",
        "\n",
        "  def __str__(self):\n",
        "    return f\"{self.numerator}/{self.denominator}\"\n",
        "\n",
        "obj13= Fraction(5,10)\n",
        "print(obj13)\n"
      ],
      "metadata": {
        "colab": {
          "base_uri": "https://localhost:8080/"
        },
        "id": "KHp6tkR-U4g1",
        "outputId": "416fcc66-1ef3-4464-f129-20543568c1e7"
      },
      "execution_count": 22,
      "outputs": [
        {
          "output_type": "stream",
          "name": "stdout",
          "text": [
            "5/10\n"
          ]
        }
      ]
    },
    {
      "cell_type": "code",
      "source": [
        "'''10. Demonstrate operator overloading by creating a class Vector and overriding the add method to add two\n",
        "vectors.'''\n",
        "\n",
        "class Vector:\n",
        "    def __init__(self,x,y):\n",
        "        self.x=x\n",
        "        self.y=y\n",
        "\n",
        "    def __add__(self,other):\n",
        "        return Vector(self.x+other.x,self.y+other.y)\n",
        "\n",
        "obj1=Vector(10,20)\n",
        "obj2=Vector(30,40)\n",
        "obj3=obj1+obj2\n",
        "print(obj3.x,obj3.y)\n"
      ],
      "metadata": {
        "colab": {
          "base_uri": "https://localhost:8080/"
        },
        "id": "9Wk2u14WVtMa",
        "outputId": "e2ac63ed-397e-48d3-a676-4919ad8d230c"
      },
      "execution_count": 23,
      "outputs": [
        {
          "output_type": "stream",
          "name": "stdout",
          "text": [
            "40 60\n"
          ]
        }
      ]
    },
    {
      "cell_type": "code",
      "source": [
        "\n",
        "'''11.  class Person with attributes name and age. Add a method greet() that prints \"Hello, my name is\n",
        "{name} and I am {age} years old.'''\n",
        "\n",
        "class Person:\n",
        "  def __init__(self,name,age):\n",
        "    self.name=name\n",
        "    self.age=age\n",
        "\n",
        "  def greet(self):\n",
        "    print(f\"Hello my name is {self.name} and I am {self.age} years old.\")\n",
        "\n",
        "objx= Person(\"Gaurav\",24)\n",
        "objx.greet()\n",
        "\n"
      ],
      "metadata": {
        "colab": {
          "base_uri": "https://localhost:8080/"
        },
        "id": "phjQ3EkjV4nq",
        "outputId": "07873427-c493-4fb1-8fa2-c87e1572131b"
      },
      "execution_count": 28,
      "outputs": [
        {
          "output_type": "stream",
          "name": "stdout",
          "text": [
            "Hello my name is Gaurav and I am 24 years old.\n"
          ]
        }
      ]
    },
    {
      "cell_type": "code",
      "source": [
        "''' 12. . Implement a class Student with attributes name and grades. Create a method average_grade() to compute\n",
        "the average of the grades.'''\n",
        "\n",
        "class Student:\n",
        "  def __init__(self,name,grade):\n",
        "    self.name=name\n",
        "    self.grade=grade\n",
        "\n",
        "  def average_grade(self):\n",
        "    return sum(self.grade)/len(self.grade)\n",
        "\n",
        "obx=Student(\"Gaurav\",[90,80,70])\n",
        "print(obx.average_grade())"
      ],
      "metadata": {
        "colab": {
          "base_uri": "https://localhost:8080/"
        },
        "id": "W3hf2WCLX7mB",
        "outputId": "8564d28e-b924-4d43-c370-e1f93ad63ded"
      },
      "execution_count": 31,
      "outputs": [
        {
          "output_type": "stream",
          "name": "stdout",
          "text": [
            "80.0\n"
          ]
        }
      ]
    },
    {
      "cell_type": "code",
      "source": [
        "'''13.  Create a class Rectangle with methods set_dimensions() to set the dimensions and area() to calculate the\n",
        "area.'''\n",
        "\n",
        "class Rectangle:\n",
        "  def __init__(self,length,width):\n",
        "    self.length=length\n",
        "    self.width=width\n",
        "\n",
        "  def set_dimensions(self,length,width):\n",
        "    self.length=length\n",
        "    self.width=width\n",
        "\n",
        "  def area(self):\n",
        "    return self.length*self.width\n",
        "\n",
        "obj14= Rectangle(10,20)\n",
        "print(obj14.area())\n",
        "\n"
      ],
      "metadata": {
        "colab": {
          "base_uri": "https://localhost:8080/"
        },
        "id": "sxWbtD8kX_ap",
        "outputId": "3e7cd6a9-df71-41a5-9698-57d1c07861db"
      },
      "execution_count": 35,
      "outputs": [
        {
          "output_type": "stream",
          "name": "stdout",
          "text": [
            "200\n"
          ]
        }
      ]
    },
    {
      "cell_type": "code",
      "source": [
        "'''14. Create a class Employee with a method calculate_salary() that computes the salary based on hours worked\n",
        "and hourly rate. Create a derived class Manager that adds a bonus to the salary.'''\n",
        "\n",
        "class Employee:\n",
        "  def __init__(self,name,hours,rate):\n",
        "    self.name=name\n",
        "    self.hours=hours\n",
        "    self.rate=rate\n",
        "\n",
        "  def calculate_salary(self):\n",
        "    return self.hours*self.rate\n",
        "\n",
        "class Manager(Employee):\n",
        "  def __init__(self,name,hours,rate,bonus):\n",
        "    super().__init__(name,hours,rate)\n",
        "    self.bonus=bonus\n",
        "\n",
        "  def calculate_salary(self):\n",
        "      salary=super().calculate_salary()\n",
        "      return salary+self.bonus\n",
        "\n",
        "objl=Manager(\"Gaurav\",100,100,1000)\n",
        "print(objl.calculate_salary())\n"
      ],
      "metadata": {
        "colab": {
          "base_uri": "https://localhost:8080/"
        },
        "id": "EICIatmTYeHI",
        "outputId": "64aa8956-9c68-45ca-83bf-b3dbfd799b62"
      },
      "execution_count": 38,
      "outputs": [
        {
          "output_type": "stream",
          "name": "stdout",
          "text": [
            "11000\n"
          ]
        }
      ]
    },
    {
      "cell_type": "code",
      "source": [
        "'''15. Create a class Product with attributes name, price, and quantity. Implement a method total_price() that\n",
        "calculates the total price of the product.'''\n",
        "\n",
        "class Product:\n",
        "  def __init__(self,name,price,quantity):\n",
        "    self.name=name\n",
        "    self.price=price\n",
        "    self.quantity=quantity\n",
        "\n",
        "  def total_price(self):\n",
        "    return self.price*self.quantity\n",
        "\n",
        "obj15=Product(\"Pencil\",10,100)\n",
        "print(obj15.total_price())"
      ],
      "metadata": {
        "colab": {
          "base_uri": "https://localhost:8080/"
        },
        "id": "WiYWYrAdZaX1",
        "outputId": "f6049117-26b0-4162-9f2e-5478e6b11f08"
      },
      "execution_count": 41,
      "outputs": [
        {
          "output_type": "stream",
          "name": "stdout",
          "text": [
            "1000\n"
          ]
        }
      ]
    },
    {
      "cell_type": "code",
      "source": [
        "'''16. Create a class Animal with an abstract method sound(). Create two derived classes Cow and Sheep that\n",
        "implement the sound() method.'''\n",
        "\n",
        "from abc import ABC, abstractmethod\n",
        "class Animal(ABC):\n",
        "    @abstractmethod\n",
        "    def sound(self):\n",
        "        pass\n",
        "\n",
        "class Cow(Animal):\n",
        "    def sound(self):\n",
        "        print(\"Moo\")\n",
        "\n",
        "class Sheep(Animal):\n",
        "    def sound(self):\n",
        "        print(\"Baa\")\n",
        "\n",
        "obj16=Cow()\n",
        "obj16.sound()\n"
      ],
      "metadata": {
        "colab": {
          "base_uri": "https://localhost:8080/"
        },
        "id": "Nu2Xv3yzZDZ9",
        "outputId": "d7a01378-421b-451b-80fe-0de3ca5fbdbf"
      },
      "execution_count": 40,
      "outputs": [
        {
          "output_type": "stream",
          "name": "stdout",
          "text": [
            "Moo\n"
          ]
        }
      ]
    },
    {
      "cell_type": "code",
      "source": [
        "'''17. Create a class Book with attributes title, author, and year_published. Add a method get_book_info() that\n",
        "returns a formatted string with the book's details.'''\n",
        "\n",
        "class Book:\n",
        "    def __init__(self, title, author, year_published):\n",
        "        self.title = title\n",
        "        self.author = author\n",
        "        self.year_published = year_published\n",
        "\n",
        "    def get_book_info(self):\n",
        "        return f\"Title: {self.title}\\nAuthor: {self.author}\\nYear Published: {self.year_published}\"\n",
        "\n",
        "obj17= Book(\"Shantaram\", \"Robert Gregory\", 1992)\n",
        "print(obj17.get_book_info())\n"
      ],
      "metadata": {
        "colab": {
          "base_uri": "https://localhost:8080/"
        },
        "id": "f4vmCL3FZioB",
        "outputId": "a7ac8745-b2ff-4852-ab3b-15769c63ab89"
      },
      "execution_count": 43,
      "outputs": [
        {
          "output_type": "stream",
          "name": "stdout",
          "text": [
            "Title: Shantaram\n",
            "Author: Robert Gregory\n",
            "Year Published: 1992\n"
          ]
        }
      ]
    },
    {
      "cell_type": "code",
      "source": [
        "'''18. Create a class House with attributes address and price. Create a derived class Mansion that adds an\n",
        "attribute number_of_rooms.'''\n",
        "class House:\n",
        "    def __init__(self,address,price):\n",
        "        self.address=address\n",
        "        self.price=price\n",
        "\n",
        "class Mansion(House):\n",
        "    def __init__(self,address,price,number_of_rooms):\n",
        "        super().__init__(address,price)\n",
        "        self.number_of_rooms=number_of_rooms\n",
        "\n",
        "objx=Mansion(\"Bageshwar\",30000000,7)\n",
        "print(objx.address)\n",
        "print(objx.price)\n",
        "print(objx.number_of_rooms)\n",
        "\n"
      ],
      "metadata": {
        "colab": {
          "base_uri": "https://localhost:8080/"
        },
        "id": "9QO32l2KZw_O",
        "outputId": "7bdd77c2-c772-4896-a2a9-2abcbfd6ea8c"
      },
      "execution_count": 45,
      "outputs": [
        {
          "output_type": "stream",
          "name": "stdout",
          "text": [
            "Bageshwar\n",
            "30000000\n",
            "7\n"
          ]
        }
      ]
    }
  ]
}