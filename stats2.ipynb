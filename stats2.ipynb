{
  "nbformat": 4,
  "nbformat_minor": 0,
  "metadata": {
    "colab": {
      "provenance": []
    },
    "kernelspec": {
      "name": "python3",
      "display_name": "Python 3"
    },
    "language_info": {
      "name": "python"
    }
  },
  "cells": [
    {
      "cell_type": "markdown",
      "source": [
        "1. What is hypothesis testing in statistics?\n",
        "\n",
        "\n",
        "Hypothesis testing is a statistical method used to make inferences or draw conclusions about a population based on sample data. It involves formulating a hypothesis, collecting data, and using statistical techniques to determine whether to reject or fail to reject the hypothesis.\n",
        "\n",
        "\n",
        "\n",
        "2. What is the null hypothesis, and how does it differ from the alternative hypothesis?\n",
        "\n",
        "\n",
        "Null Hypothesis ((H_0)): The default assumption that there is no effect or no difference in the population. It represents the status quo.\n",
        "Alternative Hypothesis ((H_a)): The statement that contradicts the null hypothesis, indicating that there is an effect, a difference, or a relationship.\n",
        "Difference: The null hypothesis assumes no change, while the alternative hypothesis suggests a change or effect.\n",
        "\n",
        "\n",
        "\n",
        "3. What is the significance level in hypothesis testing, and why is it important?\n",
        "\n",
        "\n",
        "The significance level ((alpha)) is the threshold for determining whether a result is statistically significant. It is typically set at 0.05 (5%), meaning there is a 5% chance of rejecting the null hypothesis when it is actually true. The lower the (alpha), the stricter the test.\n",
        "\n",
        "\n",
        "\n",
        "4. What does a P-value represent in hypothesis testing?\n",
        "\n",
        "\n",
        "The P-value is the probability of obtaining the observed data (or something more extreme) if the null hypothesis is true. A smaller P-value suggests stronger evidence against the null hypothesis.\n",
        "\n",
        "\n",
        "\n",
        "5. How do you interpret the P-value in hypothesis testing?\n",
        "\n",
        "\n",
        "If ( P < alpha ): Reject (H_0) (the result is statistically significant).\n",
        "If ( P > alpha ): Fail to reject (H_0) (insufficient evidence to conclude a significant effect).\n",
        "\n",
        "\n",
        "6. What are Type 1 and Type 2 errors in hypothesis testing?\n",
        "\n",
        "\n",
        "Type 1 Error ((alpha)): Rejecting a true null hypothesis (false positive).\n",
        "Type 2 Error ((beta)): Failing to reject a false null hypothesis (false negative).\n",
        "\n",
        "\n",
        "7. What is the difference between a one-tailed and a two-tailed test?\n",
        "\n",
        "\n",
        "One-tailed test: Tests for an effect in one direction (e.g., greater than or less than).\n",
        "Two-tailed test: Tests for an effect in both directions (e.g., different but not specifying whether it’s greater or smaller).\n",
        "\n",
        "\n",
        "8. What is the Z-test, and when is it used?\n",
        "\n",
        "\n",
        "A Z-test is a hypothesis test used when:\n",
        "\n",
        "The sample size is large (( n > 30 )).\n",
        "The population standard deviation is known.\n",
        "It is used to compare sample and population means.\n",
        "\n",
        "\n",
        "9. How do you calculate the Z-score, and what does it represent?\n",
        "\n",
        "\n",
        "Formula:\n",
        "[ Z = \\frac{X - \\mu}{\\sigma} ]\n",
        "where:\n",
        "\n",
        "(X) = sample mean,\n",
        "(\\mu) = population mean,\n",
        "(\\sigma) = standard deviation.\n",
        "It measures how many standard deviations a value is from the mean.\n",
        "\n",
        "\n",
        "10. What is the T-distribution, and when should it be used instead of the normal distribution?\n",
        "\n",
        "\n",
        "The T-distribution is used when the sample size is small ((n < 30)) and the population standard deviation is unknown. It is more spread out than the normal distribution but approaches normality as (n) increases.\n",
        "\n",
        "\n",
        "11. What is the difference between a Z-test and a T-test?\n",
        "\n",
        "\n",
        "Z-test: Used when population standard deviation is known and ( n > 30 ).\n",
        "T-test: Used when population standard deviation is unknown and ( n < 30 ).\n",
        "\n",
        "\n",
        "12. What is the T-test, and how is it used in hypothesis testing?\n",
        "\n",
        "\n",
        "A T-test compares sample means to determine if there is a significant difference between two groups. It is used in small sample sizes where the population standard deviation is unknown.\n",
        "\n",
        "\n",
        "13. What is the relationship between Z-test and T-test?\n",
        "\n",
        "\n",
        "Both tests assess whether a sample mean differs significantly from a population mean. The Z-test is for larger samples with known population variance, while the T-test is for smaller samples with unknown variance.\n",
        "\n",
        "\n",
        "14. What is a confidence interval, and how is it used to interpret statistical results?\n",
        "\n",
        "\n",
        "A confidence interval (CI) is a range of values that likely contains the population parameter. For example, a 95% CI means we are 95% confident that the true mean falls within that range.\n",
        "\n",
        "\n",
        "15. What is the margin of error, and how does it affect the confidence interval?\n",
        "\n",
        "\n",
        "The margin of error (ME) is the range within which the true population parameter is expected to fall. A larger ME means less precision in estimating the parameter.\n",
        "\n",
        "\n",
        "16. How is Bayes' Theorem used in statistics, and what is its significance?\n",
        "\n",
        "\n",
        "Bayes' Theorem describes the probability of an event based on prior knowledge. It is used in Bayesian statistics for updating probabilities as more evidence is available.\n",
        "\n",
        "\n",
        "17. What is the Chi-square distribution, and when is it used?\n",
        "\n",
        "\n",
        "The Chi-square distribution is used in categorical data analysis, particularly for tests like the Chi-square goodness of fit and independence tests.\n",
        "\n",
        "\n",
        "18. What is the Chi-square goodness of fit test, and how is it applied?\n",
        "\n",
        "\n",
        "The Chi-square goodness of fit test determines whether an observed distribution matches an expected distribution. It is commonly used in categorical data analysis.\n",
        "\n",
        "\n",
        "19. What is the F-distribution, and when is it used in hypothesis testing?\n",
        "\n",
        "\n",
        "The F-distribution is used in variance analysis, especially in ANOVA and F-tests. It helps compare two variances to determine if they are significantly different.\n",
        "\n",
        "20. What is an ANOVA test, and what are its assumptions?\n",
        "\n",
        "\n",
        "ANOVA (Analysis of Variance) tests differences among multiple group means.\n",
        "Assumptions:\n",
        "\n",
        "Independence of observations.\n",
        "Normality of the dependent variable.\n",
        "Homogeneity of variances (equal variances).\n",
        "\n",
        "\n",
        "21. What are the different types of ANOVA tests?\n",
        "\n",
        "\n",
        "One-way ANOVA: Compares means of one factor with multiple groups.\n",
        "Two-way ANOVA: Examines the effect of two factors simultaneously.\n",
        "Repeated measures ANOVA: Used when the same subjects are tested under different conditions.\n",
        "\n",
        "\n",
        "\n",
        "22. What is the F-test, and how does it relate to hypothesis testing?\n",
        "\n",
        "\n",
        "The F-test is used to compare variances between two or more groups. It is the basis for ANOVA and other statistical tests."
      ],
      "metadata": {
        "id": "RGbpU35yNbo2"
      }
    },
    {
      "cell_type": "code",
      "execution_count": 1,
      "metadata": {
        "colab": {
          "base_uri": "https://localhost:8080/"
        },
        "id": "-_0b72ZyNalL",
        "outputId": "8f659441-0f4a-40d8-f1ed-d9f8ba08cd92"
      },
      "outputs": [
        {
          "output_type": "stream",
          "name": "stdout",
          "text": [
            "Z-score: -2.3622\n",
            "P-value: 0.0182\n",
            "Reject the null hypothesis: Sample mean is significantly different from the population mean.\n"
          ]
        }
      ],
      "source": [
        "''' 1. Python program to perform a Z-test for comparing a sample mean to a known population mean and\n",
        "interpret the results '''\n",
        "import numpy as np\n",
        "from scipy import stats\n",
        "\n",
        "# Sample data\n",
        "np.random.seed(42)\n",
        "sample = np.random.normal(loc=50, scale=10, size=30)  # Mean = 50, Std Dev = 10, Sample Size = 30\n",
        "population_mean = 52  # Known population mean\n",
        "\n",
        "# Perform a one-sample Z-test\n",
        "sample_mean = np.mean(sample)\n",
        "sample_std = np.std(sample, ddof=1)\n",
        "n = len(sample)\n",
        "z_score = (sample_mean - population_mean) / (sample_std / np.sqrt(n))\n",
        "\n",
        "# Calculate P-value (two-tailed test)\n",
        "p_value = 2 * (1 - stats.norm.cdf(abs(z_score)))\n",
        "\n",
        "print(f\"Z-score: {z_score:.4f}\")\n",
        "print(f\"P-value: {p_value:.4f}\")\n",
        "\n",
        "# Interpretation\n",
        "alpha = 0.05\n",
        "if p_value < alpha:\n",
        "    print(\"Reject the null hypothesis: Sample mean is significantly different from the population mean.\")\n",
        "else:\n",
        "    print(\"Fail to reject the null hypothesis: No significant difference found.\")\n",
        "\n"
      ]
    },
    {
      "cell_type": "code",
      "source": [
        "'''2. Simulate random data to perform hypothesis testing and calculate the corresponding P-value using Python'''\n",
        "\n",
        "import numpy as np\n",
        "from scipy import stats\n",
        "\n",
        "# Simulate random data\n",
        "np.random.seed(42)\n",
        "sample = np.random.normal(50, 10, 50)  # Mean = 50, Std Dev = 10, Sample Size = 50\n",
        "pop_mean = 52  # Hypothetical population mean\n",
        "\n",
        "# One-sample T-test\n",
        "t_stat, p_value = stats.ttest_1samp(sample, pop_mean)\n",
        "\n",
        "print(f\"T-statistic: {t_stat:.4f}\")\n",
        "print(f\"P-value: {p_value:.4f}\")\n",
        "\n",
        "if p_value < 0.05:\n",
        "    print(\"Reject the null hypothesis.\")\n",
        "else:\n",
        "    print(\"Fail to reject the null hypothesis.\")\n"
      ],
      "metadata": {
        "colab": {
          "base_uri": "https://localhost:8080/"
        },
        "id": "jfLmgB-vQMX0",
        "outputId": "c7b88652-ee52-4a57-e572-219c22523ab5"
      },
      "execution_count": 2,
      "outputs": [
        {
          "output_type": "stream",
          "name": "stdout",
          "text": [
            "T-statistic: -3.2223\n",
            "P-value: 0.0023\n",
            "Reject the null hypothesis.\n"
          ]
        }
      ]
    },
    {
      "cell_type": "code",
      "source": [
        "'''3. mplement a one-sample Z-test using Python to compare the sample mean with the population mean'''\n",
        "\n",
        "\n",
        "import numpy as np\n",
        "from scipy.stats import norm\n",
        "\n",
        "def one_sample_z_test(sample, pop_mean, pop_std):\n",
        "    n = len(sample)\n",
        "    sample_mean = np.mean(sample)\n",
        "    z_score = (sample_mean - pop_mean) / (pop_std / np.sqrt(n))\n",
        "    p_value = 2 * (1 - norm.cdf(abs(z_score)))\n",
        "\n",
        "    return z_score, p_value\n",
        "\n",
        "# Simulate data\n",
        "np.random.seed(42)\n",
        "sample = np.random.normal(100, 15, 40)  # Mean = 100, Std Dev = 15, Sample Size = 40\n",
        "population_mean = 105\n",
        "population_std = 15  # Known standard deviation\n",
        "\n",
        "# Run Z-test\n",
        "z_stat, p_val = one_sample_z_test(sample, population_mean, population_std)\n",
        "\n",
        "print(f\"Z-Statistic: {z_stat:.4f}\")\n",
        "print(f\"P-Value: {p_val:.4f}\")\n",
        "\n"
      ],
      "metadata": {
        "colab": {
          "base_uri": "https://localhost:8080/"
        },
        "id": "2z8wR_SpQcZ-",
        "outputId": "99578ace-4c1d-461a-ee9c-a0bf789a727a"
      },
      "execution_count": 4,
      "outputs": [
        {
          "output_type": "stream",
          "name": "stdout",
          "text": [
            "Z-Statistic: -3.4910\n",
            "P-Value: 0.0005\n"
          ]
        }
      ]
    },
    {
      "cell_type": "code",
      "source": [
        "'''4. Perform a two-tailed Z-test using Python and visualize the decision region on a plot'''\n",
        "\n",
        "\n",
        "import numpy as np\n",
        "import matplotlib.pyplot as plt\n",
        "from scipy.stats import norm\n",
        "\n",
        "# Generate random sample\n",
        "np.random.seed(42)\n",
        "sample = np.random.normal(50, 10, 30)\n",
        "sample_mean = np.mean(sample)\n",
        "pop_mean = 52\n",
        "pop_std = 10\n",
        "n = len(sample)\n",
        "\n",
        "# Z-test calculation\n",
        "z_score = (sample_mean - pop_mean) / (pop_std / np.sqrt(n))\n",
        "p_value = 2 * (1 - norm.cdf(abs(z_score)))\n",
        "\n",
        "# Visualization\n",
        "x = np.linspace(-4, 4, 1000)\n",
        "y = norm.pdf(x)\n",
        "plt.plot(x, y, label=\"Standard Normal Distribution\")\n",
        "\n",
        "# Mark rejection regions\n",
        "critical_value = norm.ppf(0.975)\n",
        "plt.axvline(critical_value, color='r', linestyle='--', label=\"Critical Value (±1.96)\")\n",
        "plt.axvline(-critical_value, color='r', linestyle='--')\n",
        "\n",
        "# Mark Z-score\n",
        "plt.axvline(z_score, color='g', linestyle='-', label=f\"Z-score: {z_score:.2f}\")\n",
        "\n",
        "plt.title(\"Two-Tailed Z-Test Decision Region\")\n",
        "plt.legend()\n",
        "plt.show()\n",
        "\n",
        "# Print results\n",
        "print(f\"Z-Score: {z_score:.4f}\")\n",
        "print(f\"P-Value: {p_value:.4f}\")\n"
      ],
      "metadata": {
        "colab": {
          "base_uri": "https://localhost:8080/",
          "height": 487
        },
        "id": "Q_2WoPtnQmwE",
        "outputId": "54e6dd30-4b87-439d-baa8-0a9777d0625e"
      },
      "execution_count": 5,
      "outputs": [
        {
          "output_type": "display_data",
          "data": {
            "text/plain": [
              "<Figure size 640x480 with 1 Axes>"
            ],
            "image/png": "[encoded data removed]"
          },
          "metadata": {}
        },
        {
          "output_type": "stream",
          "name": "stdout",
          "text": [
            "Z-Score: -2.1260\n",
            "P-Value: 0.0335\n"
          ]
        }
      ]
    },
    {
      "cell_type": "code",
      "source": [
        "'''5. Create a Python function that calculates and visualizes Type 1 and Type 2 errors during hypothesis testing'''\n",
        "\n",
        "\n",
        "import numpy as np\n",
        "import matplotlib.pyplot as plt\n",
        "from scipy.stats import norm\n",
        "\n",
        "def visualize_errors(alpha=0.05, beta=0.2):\n",
        "    x = np.linspace(-4, 4, 1000)\n",
        "\n",
        "    # Null distribution (H0)\n",
        "    y_h0 = norm.pdf(x, loc=0, scale=1)\n",
        "    plt.plot(x, y_h0, label=\"Null Distribution (H0)\", color='blue')\n",
        "\n",
        "    # Alternative distribution (H1)\n",
        "    y_h1 = norm.pdf(x, loc=2, scale=1)\n",
        "    plt.plot(x, y_h1, label=\"Alternative Distribution (H1)\", color='green')\n",
        "\n",
        "    # Type 1 Error (Alpha)\n",
        "    critical_value = norm.ppf(1 - alpha)\n",
        "    plt.fill_between(x, y_h0, where=(x > critical_value), color='red', alpha=0.3, label=\"Type 1 Error (α)\")\n",
        "\n",
        "    # Type 2 Error (Beta)\n",
        "    beta_region = norm.ppf(beta, loc=2)\n",
        "    plt.fill_between(x, y_h1, where=(x < beta_region), color='orange', alpha=0.3, label=\"Type 2 Error (β)\")\n",
        "\n",
        "    plt.axvline(critical_value, color='black', linestyle=\"--\", label=\"Critical Value\")\n",
        "\n",
        "    plt.legend()\n",
        "    plt.title(\"Type 1 and Type 2 Errors\")\n",
        "    plt.show()\n",
        "\n",
        "# Visualize errors\n",
        "visualize_errors()\n"
      ],
      "metadata": {
        "colab": {
          "base_uri": "https://localhost:8080/",
          "height": 452
        },
        "id": "Iq5aO__BQm8F",
        "outputId": "06b7c54e-e7ff-4860-fe61-1430581c6f46"
      },
      "execution_count": 7,
      "outputs": [
        {
          "output_type": "execute_result",
          "data": {
            "text/plain": [
              "<matplotlib.lines.Line2D at 0x7969a46dd7d0>"
            ]
          },
          "metadata": {},
          "execution_count": 7
        },
        {
          "output_type": "display_data",
          "data": {
            "text/plain": [
              "<Figure size 640x480 with 1 Axes>"
            ],
            "image/png": "[encoded data removed]"
          },
          "metadata": {}
        }
      ]
    },
    {
      "cell_type": "code",
      "source": [
        "''' 6. Python program to perform an independent T-test and interpret the results'''\n",
        "\n",
        "import numpy as np\n",
        "from scipy.stats import ttest_ind\n",
        "\n",
        "# Generate two independent samples\n",
        "np.random.seed(42)\n",
        "group1 = np.random.normal(50, 10, 30)\n",
        "group2 = np.random.normal(55, 10, 30)\n",
        "\n",
        "# Perform independent T-test\n",
        "t_stat, p_value = ttest_ind(group1, group2)\n",
        "\n",
        "print(f\"T-Statistic: {t_stat:.4f}\")\n",
        "print(f\"P-Value: {p_value:.4f}\")\n",
        "\n",
        "# Interpretation\n",
        "alpha = 0.05\n",
        "if p_value < alpha:\n",
        "    print(\"Reject the null hypothesis: Significant difference between the groups.\")\n",
        "else:\n",
        "    print(\"Fail to reject the null hypothesis: No significant difference found.\")\n"
      ],
      "metadata": {
        "colab": {
          "base_uri": "https://localhost:8080/"
        },
        "id": "T4NEB4OqQnMy",
        "outputId": "97c9ae65-ffc8-4c7d-c664-b8814df6d1ec"
      },
      "execution_count": 9,
      "outputs": [
        {
          "output_type": "stream",
          "name": "stdout",
          "text": [
            "T-Statistic: -2.3981\n",
            "P-Value: 0.0197\n",
            "Reject the null hypothesis: Significant difference between the groups.\n"
          ]
        }
      ]
    },
    {
      "cell_type": "code",
      "source": [
        "'''7. Perform a paired sample T-test using Python and visualize the comparison results'''\n",
        "\n",
        "import numpy as np\n",
        "import matplotlib.pyplot as plt\n",
        "from scipy.stats import ttest_rel\n",
        "\n",
        "# Generate paired data (Before & After measurements)\n",
        "np.random.seed(42)\n",
        "before = np.random.normal(50, 10, 30)\n",
        "after = before + np.random.normal(5, 5, 30)  # Adding effect\n",
        "\n",
        "# Perform paired T-test\n",
        "t_stat, p_value = ttest_rel(before, after)\n",
        "\n",
        "print(f\"T-Statistic: {t_stat:.4f}\")\n",
        "print(f\"P-Value: {p_value:.4f}\")\n",
        "\n",
        "# Visualization\n",
        "plt.boxplot([before, after], labels=[\"Before\", \"After\"])\n",
        "plt.title(\"Paired Sample Comparison\")\n",
        "plt.show()\n"
      ],
      "metadata": {
        "colab": {
          "base_uri": "https://localhost:8080/",
          "height": 541
        },
        "id": "xvNez05wQnPl",
        "outputId": "5796b79f-7f91-4428-f037-afc0acdcd589"
      },
      "execution_count": 10,
      "outputs": [
        {
          "output_type": "stream",
          "name": "stdout",
          "text": [
            "T-Statistic: -5.1698\n",
            "P-Value: 0.0000\n"
          ]
        },
        {
          "output_type": "stream",
          "name": "stderr",
          "text": [
            "<ipython-input-10-9eeb189f662d>:19: MatplotlibDeprecationWarning: The 'labels' parameter of boxplot() has been renamed 'tick_labels' since Matplotlib 3.9; support for the old name will be dropped in 3.11.\n",
            "  plt.boxplot([before, after], labels=[\"Before\", \"After\"])\n"
          ]
        },
        {
          "output_type": "display_data",
          "data": {
            "text/plain": [
              "<Figure size 640x480 with 1 Axes>"
            ],
            "image/png": "[encoded data removed]"
          },
          "metadata": {}
        }
      ]
    },
    {
      "cell_type": "code",
      "source": [
        "'''8. Simulate data and perform both Z-test and T-test, then compare the results using Python'''\n",
        "\n",
        "\n",
        "import numpy as np\n",
        "from scipy.stats import ttest_1samp, norm\n",
        "\n",
        "# Simulated data\n",
        "np.random.seed(42)\n",
        "sample = np.random.normal(50, 10, 15)  # Small sample (T-test)\n",
        "large_sample = np.random.normal(50, 10, 100)  # Large sample (Z-test)\n",
        "pop_mean = 52\n",
        "\n",
        "# T-Test\n",
        "t_stat, t_p_value = ttest_1samp(sample, pop_mean)\n",
        "\n",
        "# Z-Test\n",
        "z_score = (np.mean(large_sample) - pop_mean) / (np.std(large_sample, ddof=1) / np.sqrt(len(large_sample)))\n",
        "z_p_value = 2 * (1 - norm.cdf(abs(z_score)))\n",
        "\n",
        "print(f\"T-Test: T-Stat={t_stat:.4f}, P-Value={t_p_value:.4f}\")\n",
        "print(f\"Z-Test: Z-Stat={z_score:.4f}, P-Value={z_p_value:.4f}\")\n"
      ],
      "metadata": {
        "colab": {
          "base_uri": "https://localhost:8080/"
        },
        "id": "z3Oqg2waQnSW",
        "outputId": "38c7cfaa-3af5-426a-cede-245c4f70d354"
      },
      "execution_count": 11,
      "outputs": [
        {
          "output_type": "stream",
          "name": "stdout",
          "text": [
            "T-Test: T-Stat=-0.7388, P-Value=0.4722\n",
            "Z-Test: Z-Stat=-3.3206, P-Value=0.0009\n"
          ]
        }
      ]
    },
    {
      "cell_type": "code",
      "source": [
        "'''9. a Python function to calculate the confidence interval for a sample mean and explain its significance'''\n",
        "\n",
        "\n",
        "\n",
        "import numpy as np\n",
        "from scipy.stats import norm\n",
        "\n",
        "def confidence_interval(sample, confidence=0.95):\n",
        "    n = len(sample)\n",
        "    mean = np.mean(sample)\n",
        "    std_err = np.std(sample, ddof=1) / np.sqrt(n)\n",
        "    margin = norm.ppf((1 + confidence) / 2) * std_err\n",
        "    return mean - margin, mean + margin\n",
        "\n",
        "# Simulated data\n",
        "np.random.seed(42)\n",
        "data = np.random.normal(50, 10, 30)\n",
        "\n",
        "ci = confidence_interval(data)\n",
        "print(f\"95% Confidence Interval: {ci}\")\n"
      ],
      "metadata": {
        "colab": {
          "base_uri": "https://localhost:8080/"
        },
        "id": "aGm6DKVtQnU4",
        "outputId": "68db6ea6-a758-44f1-acba-f05e94d8df5c"
      },
      "execution_count": 12,
      "outputs": [
        {
          "output_type": "stream",
          "name": "stdout",
          "text": [
            "95% Confidence Interval: (np.float64(44.89795858305723), np.float64(51.33910349992202))\n"
          ]
        }
      ]
    },
    {
      "cell_type": "markdown",
      "source": [],
      "metadata": {
        "id": "KBoPysknSQm-"
      }
    },
    {
      "cell_type": "code",
      "source": [
        "''' 10. Write a Python program to calculate the margin of error for a given confidence level using sample data'''\n",
        "\n",
        "import numpy as np\n",
        "from scipy.stats import norm\n",
        "\n",
        "def margin_of_error(sample, confidence=0.95):\n",
        "    n = len(sample)\n",
        "    std_err = np.std(sample, ddof=1) / np.sqrt(n)\n",
        "    return norm.ppf((1 + confidence) / 2) * std_err\n",
        "\n",
        "# Simulated data\n",
        "np.random.seed(42)\n",
        "sample = np.random.normal(50, 10, 30)\n",
        "\n",
        "moe = margin_of_error(sample)\n",
        "print(f\"Margin of Error: {moe:.4f}\")\n"
      ],
      "metadata": {
        "colab": {
          "base_uri": "https://localhost:8080/"
        },
        "id": "V9F0YMGGQnXR",
        "outputId": "edad07f6-3e0e-4b0c-b209-218e55675095"
      },
      "execution_count": 13,
      "outputs": [
        {
          "output_type": "stream",
          "name": "stdout",
          "text": [
            "Margin of Error: 3.2206\n"
          ]
        }
      ]
    },
    {
      "cell_type": "code",
      "source": [
        "'''11. Implement a Bayesian inference method using Bayes' Theorem in Python and explain the process'''\n",
        "\n",
        "def bayes_theorem(prior, likelihood, marginal):\n",
        "    return (likelihood * prior) / marginal\n",
        "\n",
        "# Example: Medical test\n",
        "prior = 0.01  # Probability of disease\n",
        "likelihood = 0.95  # Test sensitivity\n",
        "false_positive = 0.05  # Test false positive rate\n",
        "marginal = (likelihood * prior) + (false_positive * (1 - prior))\n",
        "\n",
        "posterior = bayes_theorem(prior, likelihood, marginal)\n",
        "print(f\"Posterior Probability: {posterior:.4f}\")\n"
      ],
      "metadata": {
        "id": "lK1e3KlaQnZw"
      },
      "execution_count": null,
      "outputs": []
    },
    {
      "cell_type": "markdown",
      "source": [],
      "metadata": {
        "id": "BeKtCljZQ5ip"
      }
    },
    {
      "cell_type": "code",
      "source": [
        "'''12. Perform a Chi-square test for independence between two categorical variables in Python'''\n",
        "\n",
        "import numpy as np\n",
        "import pandas as pd\n",
        "from scipy.stats import chi2_contingency\n",
        "\n",
        "# Create a contingency table\n",
        "data = np.array([[20, 30], [25, 35]])\n",
        "chi2, p, dof, expected = chi2_contingency(data)\n",
        "\n",
        "print(f\"Chi-Square Statistic: {chi2:.4f}\")\n",
        "print(f\"P-Value: {p:.4f}\")\n",
        "\n",
        "if p < 0.05:\n",
        "    print(\"Reject the null hypothesis: The variables are dependent.\")\n",
        "else:\n",
        "    print(\"Fail to reject the null hypothesis: No significant association.\")\n"
      ],
      "metadata": {
        "id": "w6Ar6G7EQnce"
      },
      "execution_count": null,
      "outputs": []
    },
    {
      "cell_type": "code",
      "source": [
        "'''13. Write a Python program to calculate the expected frequencies for a Chi-square test based on observed\n",
        "data'''\n",
        "\n",
        "import numpy as np\n",
        "from scipy.stats import chisquare\n",
        "\n",
        "# Observed and expected frequencies\n",
        "observed = np.array([50, 30, 20])\n",
        "expected = np.array([40, 40, 20])\n",
        "\n",
        "# Perform the test\n",
        "chi2, p_value = chisquare(observed, expected)\n",
        "\n",
        "print(f\"Chi-Square Statistic: {chi2:.4f}\")\n",
        "print(f\"P-Value: {p_value:.4f}\")\n"
      ],
      "metadata": {
        "id": "pMvFF6MxQne4"
      },
      "execution_count": null,
      "outputs": []
    },
    {
      "cell_type": "code",
      "source": [],
      "metadata": {
        "id": "B1HGopAETsEV"
      },
      "execution_count": null,
      "outputs": []
    },
    {
      "cell_type": "code",
      "source": [
        "'''14. Perform a goodness-of-fit test using Python to compare the observed data to an expected distribution'''\n",
        "def goodness_of_fit(observed, expected):\n",
        "    return chisquare(f_obs=observed, f_exp=expected)\n",
        "\n",
        "\n"
      ],
      "metadata": {
        "id": "idL3yU-IQniO"
      },
      "execution_count": 14,
      "outputs": []
    },
    {
      "cell_type": "code",
      "source": [
        "'''15. Create a Python script to simulate and visualize the Chi-square distribution and discuss its characteristics'''\n",
        "def plot_chi_square(df):\n",
        "    x = np.linspace(0, 10, 1000)\n",
        "    y = stats.chi2.pdf(x, df)\n",
        "    plt.plot(x, y, label=f'df={df}')\n",
        "    plt.title(\"Chi-square Distribution\")\n",
        "    plt.legend()\n",
        "    plt.show()\n",
        "\n"
      ],
      "metadata": {
        "id": "j-YSunJFRCNP"
      },
      "execution_count": 15,
      "outputs": []
    },
    {
      "cell_type": "code",
      "source": [
        "'''16. Implement an F-test using Python to compare the variances of two random samples'''\n",
        "\n",
        "def f_test(sample1, sample2):\n",
        "    f_stat = np.var(sample1, ddof=1) / np.var(sample2, ddof=1)\n",
        "    p_value = stats.f.cdf(f_stat, len(sample1)-1, len(sample2)-1)\n",
        "    return f_stat, p_value\n",
        "\n"
      ],
      "metadata": {
        "id": "YAJup1yuRCJu"
      },
      "execution_count": 25,
      "outputs": []
    },
    {
      "cell_type": "code",
      "source": [
        "\n",
        "'''17. Write a Python program to perform an ANOVA test to compare means between multiple groups and\n",
        "interpret the results'''\n",
        "\n",
        "def one_way_anova(*groups):\n",
        "    return f_oneway(*groups)\n"
      ],
      "metadata": {
        "id": "WUUfdYhaRCHc"
      },
      "execution_count": 16,
      "outputs": []
    },
    {
      "cell_type": "code",
      "source": [
        "'''18. Perform a one-way ANOVA test using Python to compare the means of different groups and plot the results'''\n",
        "\n",
        "import numpy as np\n",
        "import matplotlib.pyplot as plt\n",
        "import seaborn as sns\n",
        "import pandas as pd\n",
        "from scipy.stats import f_oneway\n",
        "\n",
        "# Simulated data\n",
        "np.random.seed(42)\n",
        "group1 = np.random.normal(50, 10, 30)\n",
        "group2 = np.random.normal(55, 10, 30)\n",
        "group3 = np.random.normal(60, 10, 30)\n",
        "\n",
        "# Convert to DataFrame\n",
        "df = pd.DataFrame({\"Group\": [\"A\"] * 30 + [\"B\"] * 30 + [\"C\"] * 30,\n",
        "                   \"Value\": np.concatenate([group1, group2, group3])})\n",
        "\n",
        "# ANOVA Test\n",
        "f_stat, p_value = f_oneway(group1, group2, group3)\n",
        "print(f\"F-Statistic: {f_stat:.4f}, P-Value: {p_value:.4f}\")\n",
        "\n",
        "# Visualization\n",
        "sns.boxplot(x=\"Group\", y=\"Value\", data=df)\n",
        "plt.title(\"One-Way ANOVA Results\")\n",
        "plt.show()\n"
      ],
      "metadata": {
        "colab": {
          "base_uri": "https://localhost:8080/",
          "height": 489
        },
        "id": "YZUDDmAGRCFE",
        "outputId": "7489cae0-4440-476f-a5e0-81ff8ebb43b1"
      },
      "execution_count": 17,
      "outputs": [
        {
          "output_type": "stream",
          "name": "stdout",
          "text": [
            "F-Statistic: 12.2095, P-Value: 0.0000\n"
          ]
        },
        {
          "output_type": "display_data",
          "data": {
            "text/plain": [
              "<Figure size 640x480 with 1 Axes>"
            ],
            "image/png": "[encoded data removed]"
          },
          "metadata": {}
        }
      ]
    },
    {
      "cell_type": "code",
      "source": [
        "'''19. Write a Python function to check the assumptions (normality, independence, and equal variance) for ANOVA'''\n",
        "\n",
        "\n",
        "import numpy as np\n",
        "from scipy.stats import ttest_1samp\n",
        "\n",
        "# Simulate normal distribution\n",
        "np.random.seed(42)\n",
        "data = np.random.normal(100, 15, 40)  # Mean 100, Std 15\n",
        "\n",
        "# Perform one-sample t-test\n",
        "t_stat, p_value = ttest_1samp(data, 102)\n",
        "\n",
        "print(f\"T-Statistic: {t_stat:.4f}\")\n",
        "print(f\"P-Value: {p_value:.4f}\")\n"
      ],
      "metadata": {
        "colab": {
          "base_uri": "https://localhost:8080/"
        },
        "id": "-5J3EPUmRCCw",
        "outputId": "17c02222-7a7a-4287-a760-389d230d7302"
      },
      "execution_count": 18,
      "outputs": [
        {
          "output_type": "stream",
          "name": "stdout",
          "text": [
            "T-Statistic: -2.3363\n",
            "P-Value: 0.0247\n"
          ]
        }
      ]
    },
    {
      "cell_type": "code",
      "source": [
        "'''20. Perform a two-way ANOVA test using Python to study the interaction between two factors and visualize the\n",
        "results'''\n",
        "\n",
        "\n",
        "def two_way_anova(data, dependent, factor1, factor2):\n",
        "    import statsmodels.api as sm\n",
        "    from statsmodels.formula.api import ols\n",
        "    model = ols(f'{dependent} ~ C({factor1}) + C({factor2}) + C({factor1}):C({factor2})', data=data).fit()\n",
        "    return sm.stats.anova_lm(model, typ=2)\n"
      ],
      "metadata": {
        "id": "8J-SOn6CRMK3"
      },
      "execution_count": null,
      "outputs": []
    },
    {
      "cell_type": "code",
      "source": [
        "'''21. Write a Python program to visualize the F-distribution and discuss its use in hypothesis testing'''\n",
        "\n",
        "\n",
        "def plot_f_distribution(dfn, dfd):\n",
        "    x = np.linspace(0, 5, 1000)\n",
        "    y = stats.f.pdf(x, dfn, dfd)\n",
        "    plt.plot(x, y, label=f'dfn={dfn}, dfd={dfd}')\n",
        "    plt.title(\"F-Distribution\")\n",
        "    plt.legend()\n",
        "    plt.show()\n"
      ],
      "metadata": {
        "id": "LFjZDDE1RCAX"
      },
      "execution_count": null,
      "outputs": []
    },
    {
      "cell_type": "code",
      "source": [
        "'''22. Perform a one-way ANOVA test in Python and visualize the results with boxplots to compare group means'''\n",
        "\n",
        "\n",
        "def anova_boxplot(data, groups, values):\n",
        "    sns.boxplot(x=groups, y=values, data=data)\n",
        "    plt.title(\"ANOVA Boxplot\")\n",
        "    plt.show()\n"
      ],
      "metadata": {
        "id": "8YcniXnyRB-L"
      },
      "execution_count": 22,
      "outputs": []
    },
    {
      "cell_type": "code",
      "source": [
        "'''23. Simulate random data from a normal distribution, then perform hypothesis testing to evaluate the means'''\n",
        "\n",
        "def hypothesis_test_normal(mu1, mu2, sigma1, sigma2, n):\n",
        "    sample1 = np.random.normal(mu1, sigma1, n)\n",
        "    sample2 = np.random.normal(mu2, sigma2, n)\n",
        "    return stats.ttest_ind(sample1, sample2)\n"
      ],
      "metadata": {
        "colab": {
          "base_uri": "https://localhost:8080/"
        },
        "id": "dQHomamDRB7s",
        "outputId": "3989e081-eccf-4f68-e881-d52c8d8619d9"
      },
      "execution_count": 23,
      "outputs": [
        {
          "output_type": "stream",
          "name": "stdout",
          "text": [
            "Chi-Square Statistic: 5.0000\n",
            "P-Value: 0.0821\n"
          ]
        }
      ]
    },
    {
      "cell_type": "code",
      "source": [
        "# 24. Chi-square Test for Population Variance\n",
        "def chi_square_variance_test(sample, claimed_variance):\n",
        "    sample_var = np.var(sample, ddof=1)\n",
        "    chi2_stat = (len(sample) - 1) * sample_var / claimed_variance\n",
        "    p_value = 1 - stats.chi2.cdf(chi2_stat, len(sample) - 1)\n",
        "    return chi2_stat, p_value"
      ],
      "metadata": {
        "id": "EAknz7UtRB5M"
      },
      "execution_count": 24,
      "outputs": []
    },
    {
      "cell_type": "code",
      "source": [
        "# 25. Z-test for Comparing Proportions\n",
        "def z_test_proportions(count1, nobs1, count2, nobs2):\n",
        "    return proportions_ztest([count1, count2], [nobs1, nobs2])"
      ],
      "metadata": {
        "id": "zD5M-fUnRB2o"
      },
      "execution_count": null,
      "outputs": []
    },
    {
      "cell_type": "code",
      "source": [
        "# 26. F-test for Variance Comparison with Visualization\n",
        "def f_test_plot(sample1, sample2):\n",
        "    f_stat, p_value = f_test(sample1, sample2)\n",
        "    plot_f_distribution(len(sample1)-1, len(sample2)-1)\n",
        "    return f_stat, p_value"
      ],
      "metadata": {
        "id": "0xy_1XK4RB0B"
      },
      "execution_count": null,
      "outputs": []
    },
    {
      "cell_type": "code",
      "source": [
        "# 27. Chi-square Goodness-of-fit Test with Simulated Data\n",
        "def chi_square_gof_test(simulated_data, expected_probabilities):\n",
        "    observed_counts = np.histogram(simulated_data, bins=len(expected_probabilities))[0]\n",
        "    expected_counts = expected_probabilities * np.sum(observed_counts)\n",
        "    return chisquare(f_obs=observed_counts, f_exp=expected_counts)"
      ],
      "metadata": {
        "id": "O_B4GG50WzWT"
      },
      "execution_count": null,
      "outputs": []
    }
  ]
}